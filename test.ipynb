{
 "cells": [
  {
   "cell_type": "code",
   "execution_count": 31,
   "metadata": {},
   "outputs": [
    {
     "data": {
      "text/html": [
       "<pre style=\"white-space:pre;overflow-x:auto;line-height:normal;font-family:Menlo,'DejaVu Sans Mono',consolas,'Courier New',monospace\"><span style=\"color: #d4b702; text-decoration-color: #d4b702\">╭──────────────────────────────────────────────────── </span><span style=\"color: #d4b702; text-decoration-color: #d4b702; font-weight: bold\">New run</span><span style=\"color: #d4b702; text-decoration-color: #d4b702\"> ────────────────────────────────────────────────────╮</span>\n",
       "<span style=\"color: #d4b702; text-decoration-color: #d4b702\">│</span>                                                                                                                 <span style=\"color: #d4b702; text-decoration-color: #d4b702\">│</span>\n",
       "<span style=\"color: #d4b702; text-decoration-color: #d4b702\">│</span> <span style=\"font-weight: bold\">As of August 1, 2024, who is the president of the team that inspired the original name of the Washington </span>       <span style=\"color: #d4b702; text-decoration-color: #d4b702\">│</span>\n",
       "<span style=\"color: #d4b702; text-decoration-color: #d4b702\">│</span> <span style=\"font-weight: bold\">Commanders?</span>                                                                                                     <span style=\"color: #d4b702; text-decoration-color: #d4b702\">│</span>\n",
       "<span style=\"color: #d4b702; text-decoration-color: #d4b702\">│</span>                                                                                                                 <span style=\"color: #d4b702; text-decoration-color: #d4b702\">│</span>\n",
       "<span style=\"color: #d4b702; text-decoration-color: #d4b702\">╰─ LiteLLMModel - fireworks_ai/accounts/fireworks/models/qwen2p5-coder-32b-instruct ──────────────────────────────╯</span>\n",
       "</pre>\n"
      ],
      "text/plain": [
       "\u001b[38;2;212;183;2m╭─\u001b[0m\u001b[38;2;212;183;2m───────────────────────────────────────────────────\u001b[0m\u001b[38;2;212;183;2m \u001b[0m\u001b[1;38;2;212;183;2mNew run\u001b[0m\u001b[38;2;212;183;2m \u001b[0m\u001b[38;2;212;183;2m───────────────────────────────────────────────────\u001b[0m\u001b[38;2;212;183;2m─╮\u001b[0m\n",
       "\u001b[38;2;212;183;2m│\u001b[0m                                                                                                                 \u001b[38;2;212;183;2m│\u001b[0m\n",
       "\u001b[38;2;212;183;2m│\u001b[0m \u001b[1mAs of August 1, 2024, who is the president of the team that inspired the original name of the Washington \u001b[0m       \u001b[38;2;212;183;2m│\u001b[0m\n",
       "\u001b[38;2;212;183;2m│\u001b[0m \u001b[1mCommanders?\u001b[0m                                                                                                     \u001b[38;2;212;183;2m│\u001b[0m\n",
       "\u001b[38;2;212;183;2m│\u001b[0m                                                                                                                 \u001b[38;2;212;183;2m│\u001b[0m\n",
       "\u001b[38;2;212;183;2m╰─\u001b[0m\u001b[38;2;212;183;2m LiteLLMModel - fireworks_ai/accounts/fireworks/models/qwen2p5-coder-32b-instruct \u001b[0m\u001b[38;2;212;183;2m─────────────────────────────\u001b[0m\u001b[38;2;212;183;2m─╯\u001b[0m\n"
      ]
     },
     "metadata": {},
     "output_type": "display_data"
    },
    {
     "data": {
      "text/html": [
       "<pre style=\"white-space:pre;overflow-x:auto;line-height:normal;font-family:Menlo,'DejaVu Sans Mono',consolas,'Courier New',monospace\"><span style=\"color: #d4b702; text-decoration-color: #d4b702\">━━━━━━━━━━━━━━━━━━━━━━━━━━━━━━━━━━━━━━━━━━━━━━━━━━━━━ </span><span style=\"font-weight: bold\">Step </span><span style=\"color: #008080; text-decoration-color: #008080; font-weight: bold\">1</span><span style=\"color: #d4b702; text-decoration-color: #d4b702\"> ━━━━━━━━━━━━━━━━━━━━━━━━━━━━━━━━━━━━━━━━━━━━━━━━━━━━━━</span>\n",
       "</pre>\n"
      ],
      "text/plain": [
       "\u001b[38;2;212;183;2m━━━━━━━━━━━━━━━━━━━━━━━━━━━━━━━━━━━━━━━━━━━━━━━━━━━━━ \u001b[0m\u001b[1mStep \u001b[0m\u001b[1;36m1\u001b[0m\u001b[38;2;212;183;2m ━━━━━━━━━━━━━━━━━━━━━━━━━━━━━━━━━━━━━━━━━━━━━━━━━━━━━━\u001b[0m\n"
      ]
     },
     "metadata": {},
     "output_type": "display_data"
    },
    {
     "data": {
      "text/html": [
       "<pre style=\"white-space:pre;overflow-x:auto;line-height:normal;font-family:Menlo,'DejaVu Sans Mono',consolas,'Courier New',monospace\">╭─────────────────────────────────────────────────────────────────────────────────────────────────────────────────╮\n",
       "│ Calling tool: 'web_search' with arguments: {'query': 'original name of Washington Commanders'}                  │\n",
       "╰─────────────────────────────────────────────────────────────────────────────────────────────────────────────────╯\n",
       "</pre>\n"
      ],
      "text/plain": [
       "╭─────────────────────────────────────────────────────────────────────────────────────────────────────────────────╮\n",
       "│ Calling tool: 'web_search' with arguments: {'query': 'original name of Washington Commanders'}                  │\n",
       "╰─────────────────────────────────────────────────────────────────────────────────────────────────────────────────╯\n"
      ]
     },
     "metadata": {},
     "output_type": "display_data"
    },
    {
     "name": "stdout",
     "output_type": "stream",
     "text": [
      "Using Infinity Reranker\n"
     ]
    },
    {
     "data": {
      "text/html": [
       "<pre style=\"white-space:pre;overflow-x:auto;line-height:normal;font-family:Menlo,'DejaVu Sans Mono',consolas,'Courier New',monospace\">Observations: The original name of the Washington Commanders was the Boston Braves. The team was founded as the \n",
       "Boston Braves in <span style=\"color: #008080; text-decoration-color: #008080; font-weight: bold\">1932</span> and changed its name to the Boston Redskins in <span style=\"color: #008080; text-decoration-color: #008080; font-weight: bold\">1933</span> before moving to Washington, D.C. in \n",
       "<span style=\"color: #008080; text-decoration-color: #008080; font-weight: bold\">1937</span>.\n",
       "</pre>\n"
      ],
      "text/plain": [
       "Observations: The original name of the Washington Commanders was the Boston Braves. The team was founded as the \n",
       "Boston Braves in \u001b[1;36m1932\u001b[0m and changed its name to the Boston Redskins in \u001b[1;36m1933\u001b[0m before moving to Washington, D.C. in \n",
       "\u001b[1;36m1937\u001b[0m.\n"
      ]
     },
     "metadata": {},
     "output_type": "display_data"
    },
    {
     "data": {
      "text/html": [
       "<pre style=\"white-space:pre;overflow-x:auto;line-height:normal;font-family:Menlo,'DejaVu Sans Mono',consolas,'Courier New',monospace\"><span style=\"color: #7f7f7f; text-decoration-color: #7f7f7f\">[Step 1: Duration 26.28 seconds| Input tokens: 5,612 | Output tokens: 92]</span>\n",
       "</pre>\n"
      ],
      "text/plain": [
       "\u001b[2m[Step 1: Duration 26.28 seconds| Input tokens: 5,612 | Output tokens: 92]\u001b[0m\n"
      ]
     },
     "metadata": {},
     "output_type": "display_data"
    },
    {
     "data": {
      "text/html": [
       "<pre style=\"white-space:pre;overflow-x:auto;line-height:normal;font-family:Menlo,'DejaVu Sans Mono',consolas,'Courier New',monospace\"><span style=\"color: #d4b702; text-decoration-color: #d4b702\">━━━━━━━━━━━━━━━━━━━━━━━━━━━━━━━━━━━━━━━━━━━━━━━━━━━━━ </span><span style=\"font-weight: bold\">Step </span><span style=\"color: #008080; text-decoration-color: #008080; font-weight: bold\">2</span><span style=\"color: #d4b702; text-decoration-color: #d4b702\"> ━━━━━━━━━━━━━━━━━━━━━━━━━━━━━━━━━━━━━━━━━━━━━━━━━━━━━━</span>\n",
       "</pre>\n"
      ],
      "text/plain": [
       "\u001b[38;2;212;183;2m━━━━━━━━━━━━━━━━━━━━━━━━━━━━━━━━━━━━━━━━━━━━━━━━━━━━━ \u001b[0m\u001b[1mStep \u001b[0m\u001b[1;36m2\u001b[0m\u001b[38;2;212;183;2m ━━━━━━━━━━━━━━━━━━━━━━━━━━━━━━━━━━━━━━━━━━━━━━━━━━━━━━\u001b[0m\n"
      ]
     },
     "metadata": {},
     "output_type": "display_data"
    },
    {
     "data": {
      "text/html": [
       "<pre style=\"white-space:pre;overflow-x:auto;line-height:normal;font-family:Menlo,'DejaVu Sans Mono',consolas,'Courier New',monospace\"><span style=\"color: #800000; text-decoration-color: #800000; font-weight: bold\">Error while generating or parsing output:</span>\n",
       "<span style=\"color: #800000; text-decoration-color: #800000; font-weight: bold\">The JSON blob you used is invalid due to the following error: Expecting property name enclosed in double quotes: </span>\n",
       "<span style=\"color: #800000; text-decoration-color: #800000; font-weight: bold\">line </span><span style=\"color: #008080; text-decoration-color: #008080; font-weight: bold\">1</span><span style=\"color: #800000; text-decoration-color: #800000; font-weight: bold\"> column </span><span style=\"color: #008080; text-decoration-color: #008080; font-weight: bold\">2</span><span style=\"color: #800000; text-decoration-color: #800000; font-weight: bold\"> (char </span><span style=\"color: #008080; text-decoration-color: #008080; font-weight: bold\">1</span><span style=\"color: #800000; text-decoration-color: #800000; font-weight: bold\">).</span>\n",
       "<span style=\"color: #800000; text-decoration-color: #800000; font-weight: bold\">JSON blob was: Based on the observation, the original name of the Washington Commanders was the Boston Braves. </span>\n",
       "<span style=\"color: #800000; text-decoration-color: #800000; font-weight: bold\">However, the team that inspired the original name is actually the Boston Braves, not the Washington Commanders. The</span>\n",
       "<span style=\"color: #800000; text-decoration-color: #800000; font-weight: bold\">Boston Braves were the team that moved to Washington and became the Redskins (now Commanders).</span>\n",
       "\n",
       "<span style=\"color: #800000; text-decoration-color: #800000; font-weight: bold\">Next, we need to find out who the president of the Boston Braves is as of August </span><span style=\"color: #008080; text-decoration-color: #008080; font-weight: bold\">1</span><span style=\"color: #800000; text-decoration-color: #800000; font-weight: bold\">, </span><span style=\"color: #008080; text-decoration-color: #008080; font-weight: bold\">2024</span><span style=\"color: #800000; text-decoration-color: #800000; font-weight: bold\">. However, the Boston </span>\n",
       "<span style=\"color: #800000; text-decoration-color: #800000; font-weight: bold\">Braves no longer exist as an independent entity since they moved to Washington and became the Redskins in </span><span style=\"color: #008080; text-decoration-color: #008080; font-weight: bold\">1937</span><span style=\"color: #800000; text-decoration-color: #800000; font-weight: bold\">. </span>\n",
       "<span style=\"color: #800000; text-decoration-color: #800000; font-weight: bold\">Therefore, we need to find out who the president of the Washington Commanders is as of August </span><span style=\"color: #008080; text-decoration-color: #008080; font-weight: bold\">1</span><span style=\"color: #800000; text-decoration-color: #800000; font-weight: bold\">, </span><span style=\"color: #008080; text-decoration-color: #008080; font-weight: bold\">2024</span><span style=\"color: #800000; text-decoration-color: #800000; font-weight: bold\">.</span>\n",
       "\n",
       "<span style=\"color: #800000; text-decoration-color: #800000; font-weight: bold\">Let's search for the current president of the Washington Commanders.</span>\n",
       "\n",
       "<span style=\"color: #800000; text-decoration-color: #800000; font-weight: bold\">[{</span><span style=\"color: #008000; text-decoration-color: #008000\">'id'</span><span style=\"color: #800000; text-decoration-color: #800000; font-weight: bold\">: </span><span style=\"color: #008000; text-decoration-color: #008000\">'f8a447c3-e5bc-59f2-c217-e89d697ff234'</span><span style=\"color: #800000; text-decoration-color: #800000; font-weight: bold\">, </span><span style=\"color: #008000; text-decoration-color: #008000\">'type'</span><span style=\"color: #800000; text-decoration-color: #800000; font-weight: bold\">: </span><span style=\"color: #008000; text-decoration-color: #008000\">'function'</span><span style=\"color: #800000; text-decoration-color: #800000; font-weight: bold\">, </span><span style=\"color: #008000; text-decoration-color: #008000\">'function'</span><span style=\"color: #800000; text-decoration-color: #800000; font-weight: bold\">: {</span><span style=\"color: #008000; text-decoration-color: #008000\">'name'</span><span style=\"color: #800000; text-decoration-color: #800000; font-weight: bold\">: </span><span style=\"color: #008000; text-decoration-color: #008000\">'web_search'</span><span style=\"color: #800000; text-decoration-color: #800000; font-weight: bold\">, </span><span style=\"color: #008000; text-decoration-color: #008000\">'arguments'</span><span style=\"color: #800000; text-decoration-color: #800000; font-weight: bold\">:</span>\n",
       "<span style=\"color: #800000; text-decoration-color: #800000; font-weight: bold\">{</span><span style=\"color: #008000; text-decoration-color: #008000\">'query'</span><span style=\"color: #800000; text-decoration-color: #800000; font-weight: bold\">: </span><span style=\"color: #008000; text-decoration-color: #008000\">'president of Washington Commanders as of August 1, 2024'</span><span style=\"color: #800000; text-decoration-color: #800000; font-weight: bold\">}}}\\], decoding failed on that specific part of </span>\n",
       "<span style=\"color: #800000; text-decoration-color: #800000; font-weight: bold\">the blob:</span>\n",
       "<span style=\"color: #008000; text-decoration-color: #008000\">''</span><span style=\"color: #800000; text-decoration-color: #800000; font-weight: bold\">.</span>\n",
       "</pre>\n"
      ],
      "text/plain": [
       "\u001b[1;31mError while generating or parsing output:\u001b[0m\n",
       "\u001b[1;31mThe JSON blob you used is invalid due to the following error: Expecting property name enclosed in double quotes: \u001b[0m\n",
       "\u001b[1;31mline \u001b[0m\u001b[1;36m1\u001b[0m\u001b[1;31m column \u001b[0m\u001b[1;36m2\u001b[0m\u001b[1;31m \u001b[0m\u001b[1;31m(\u001b[0m\u001b[1;31mchar \u001b[0m\u001b[1;36m1\u001b[0m\u001b[1;31m)\u001b[0m\u001b[1;31m.\u001b[0m\n",
       "\u001b[1;31mJSON blob was: Based on the observation, the original name of the Washington Commanders was the Boston Braves. \u001b[0m\n",
       "\u001b[1;31mHowever, the team that inspired the original name is actually the Boston Braves, not the Washington Commanders. The\u001b[0m\n",
       "\u001b[1;31mBoston Braves were the team that moved to Washington and became the Redskins \u001b[0m\u001b[1;31m(\u001b[0m\u001b[1;31mnow Commanders\u001b[0m\u001b[1;31m)\u001b[0m\u001b[1;31m.\u001b[0m\n",
       "\n",
       "\u001b[1;31mNext, we need to find out who the president of the Boston Braves is as of August \u001b[0m\u001b[1;36m1\u001b[0m\u001b[1;31m, \u001b[0m\u001b[1;36m2024\u001b[0m\u001b[1;31m. However, the Boston \u001b[0m\n",
       "\u001b[1;31mBraves no longer exist as an independent entity since they moved to Washington and became the Redskins in \u001b[0m\u001b[1;36m1937\u001b[0m\u001b[1;31m. \u001b[0m\n",
       "\u001b[1;31mTherefore, we need to find out who the president of the Washington Commanders is as of August \u001b[0m\u001b[1;36m1\u001b[0m\u001b[1;31m, \u001b[0m\u001b[1;36m2024\u001b[0m\u001b[1;31m.\u001b[0m\n",
       "\n",
       "\u001b[1;31mLet's search for the current president of the Washington Commanders.\u001b[0m\n",
       "\n",
       "\u001b[1;31m[\u001b[0m\u001b[1;31m{\u001b[0m\u001b[32m'id'\u001b[0m\u001b[1;31m: \u001b[0m\u001b[32m'f8a447c3-e5bc-59f2-c217-e89d697ff234'\u001b[0m\u001b[1;31m, \u001b[0m\u001b[32m'type'\u001b[0m\u001b[1;31m: \u001b[0m\u001b[32m'function'\u001b[0m\u001b[1;31m, \u001b[0m\u001b[32m'function'\u001b[0m\u001b[1;31m: \u001b[0m\u001b[1;31m{\u001b[0m\u001b[32m'name'\u001b[0m\u001b[1;31m: \u001b[0m\u001b[32m'web_search'\u001b[0m\u001b[1;31m, \u001b[0m\u001b[32m'arguments'\u001b[0m\u001b[1;31m:\u001b[0m\n",
       "\u001b[1;31m{\u001b[0m\u001b[32m'query'\u001b[0m\u001b[1;31m: \u001b[0m\u001b[32m'president of Washington Commanders as of August 1, 2024'\u001b[0m\u001b[1;31m}\u001b[0m\u001b[1;31m}\u001b[0m\u001b[1;31m}\u001b[0m\u001b[1;31m\\\u001b[0m\u001b[1;31m]\u001b[0m\u001b[1;31m, decoding failed on that specific part of \u001b[0m\n",
       "\u001b[1;31mthe blob:\u001b[0m\n",
       "\u001b[32m''\u001b[0m\u001b[1;31m.\u001b[0m\n"
      ]
     },
     "metadata": {},
     "output_type": "display_data"
    },
    {
     "data": {
      "text/html": [
       "<pre style=\"white-space:pre;overflow-x:auto;line-height:normal;font-family:Menlo,'DejaVu Sans Mono',consolas,'Courier New',monospace\"><span style=\"color: #7f7f7f; text-decoration-color: #7f7f7f\">[Step 2: Duration 4.20 seconds| Input tokens: 11,399 | Output tokens: 326]</span>\n",
       "</pre>\n"
      ],
      "text/plain": [
       "\u001b[2m[Step 2: Duration 4.20 seconds| Input tokens: 11,399 | Output tokens: 326]\u001b[0m\n"
      ]
     },
     "metadata": {},
     "output_type": "display_data"
    },
    {
     "data": {
      "text/html": [
       "<pre style=\"white-space:pre;overflow-x:auto;line-height:normal;font-family:Menlo,'DejaVu Sans Mono',consolas,'Courier New',monospace\"><span style=\"color: #d4b702; text-decoration-color: #d4b702\">━━━━━━━━━━━━━━━━━━━━━━━━━━━━━━━━━━━━━━━━━━━━━━━━━━━━━ </span><span style=\"font-weight: bold\">Step </span><span style=\"color: #008080; text-decoration-color: #008080; font-weight: bold\">3</span><span style=\"color: #d4b702; text-decoration-color: #d4b702\"> ━━━━━━━━━━━━━━━━━━━━━━━━━━━━━━━━━━━━━━━━━━━━━━━━━━━━━━</span>\n",
       "</pre>\n"
      ],
      "text/plain": [
       "\u001b[38;2;212;183;2m━━━━━━━━━━━━━━━━━━━━━━━━━━━━━━━━━━━━━━━━━━━━━━━━━━━━━ \u001b[0m\u001b[1mStep \u001b[0m\u001b[1;36m3\u001b[0m\u001b[38;2;212;183;2m ━━━━━━━━━━━━━━━━━━━━━━━━━━━━━━━━━━━━━━━━━━━━━━━━━━━━━━\u001b[0m\n"
      ]
     },
     "metadata": {},
     "output_type": "display_data"
    },
    {
     "data": {
      "text/html": [
       "<pre style=\"white-space:pre;overflow-x:auto;line-height:normal;font-family:Menlo,'DejaVu Sans Mono',consolas,'Courier New',monospace\">╭─────────────────────────────────────────────────────────────────────────────────────────────────────────────────╮\n",
       "│ Calling tool: 'web_search' with arguments: {'query': 'president of Washington Commanders as of August 1, 2024'} │\n",
       "╰─────────────────────────────────────────────────────────────────────────────────────────────────────────────────╯\n",
       "</pre>\n"
      ],
      "text/plain": [
       "╭─────────────────────────────────────────────────────────────────────────────────────────────────────────────────╮\n",
       "│ Calling tool: 'web_search' with arguments: {'query': 'president of Washington Commanders as of August 1, 2024'} │\n",
       "╰─────────────────────────────────────────────────────────────────────────────────────────────────────────────────╯\n"
      ]
     },
     "metadata": {},
     "output_type": "display_data"
    },
    {
     "name": "stdout",
     "output_type": "stream",
     "text": [
      "Using Infinity Reranker\n"
     ]
    },
    {
     "data": {
      "text/html": [
       "<pre style=\"white-space:pre;overflow-x:auto;line-height:normal;font-family:Menlo,'DejaVu Sans Mono',consolas,'Courier New',monospace\">Observations: As of August <span style=\"color: #008080; text-decoration-color: #008080; font-weight: bold\">1</span>, <span style=\"color: #008080; text-decoration-color: #008080; font-weight: bold\">2024</span>, the president of the Washington Commanders was Mark Clouse. Jason Wright had \n",
       "announced his departure from the position after the <span style=\"color: #008080; text-decoration-color: #008080; font-weight: bold\">2024</span> season.\n",
       "</pre>\n"
      ],
      "text/plain": [
       "Observations: As of August \u001b[1;36m1\u001b[0m, \u001b[1;36m2024\u001b[0m, the president of the Washington Commanders was Mark Clouse. Jason Wright had \n",
       "announced his departure from the position after the \u001b[1;36m2024\u001b[0m season.\n"
      ]
     },
     "metadata": {},
     "output_type": "display_data"
    },
    {
     "data": {
      "text/html": [
       "<pre style=\"white-space:pre;overflow-x:auto;line-height:normal;font-family:Menlo,'DejaVu Sans Mono',consolas,'Courier New',monospace\"><span style=\"color: #7f7f7f; text-decoration-color: #7f7f7f\">[Step 3: Duration 8.70 seconds| Input tokens: 17,504 | Output tokens: 365]</span>\n",
       "</pre>\n"
      ],
      "text/plain": [
       "\u001b[2m[Step 3: Duration 8.70 seconds| Input tokens: 17,504 | Output tokens: 365]\u001b[0m\n"
      ]
     },
     "metadata": {},
     "output_type": "display_data"
    },
    {
     "data": {
      "text/html": [
       "<pre style=\"white-space:pre;overflow-x:auto;line-height:normal;font-family:Menlo,'DejaVu Sans Mono',consolas,'Courier New',monospace\"><span style=\"color: #d4b702; text-decoration-color: #d4b702\">━━━━━━━━━━━━━━━━━━━━━━━━━━━━━━━━━━━━━━━━━━━━━━━━━━━━━ </span><span style=\"font-weight: bold\">Step </span><span style=\"color: #008080; text-decoration-color: #008080; font-weight: bold\">4</span><span style=\"color: #d4b702; text-decoration-color: #d4b702\"> ━━━━━━━━━━━━━━━━━━━━━━━━━━━━━━━━━━━━━━━━━━━━━━━━━━━━━━</span>\n",
       "</pre>\n"
      ],
      "text/plain": [
       "\u001b[38;2;212;183;2m━━━━━━━━━━━━━━━━━━━━━━━━━━━━━━━━━━━━━━━━━━━━━━━━━━━━━ \u001b[0m\u001b[1mStep \u001b[0m\u001b[1;36m4\u001b[0m\u001b[38;2;212;183;2m ━━━━━━━━━━━━━━━━━━━━━━━━━━━━━━━━━━━━━━━━━━━━━━━━━━━━━━\u001b[0m\n"
      ]
     },
     "metadata": {},
     "output_type": "display_data"
    },
    {
     "data": {
      "text/html": [
       "<pre style=\"white-space:pre;overflow-x:auto;line-height:normal;font-family:Menlo,'DejaVu Sans Mono',consolas,'Courier New',monospace\">╭─────────────────────────────────────────────────────────────────────────────────────────────────────────────────╮\n",
       "│ Calling tool: 'final_answer' with arguments: {'answer': 'As of August 1, 2024, the president of the Washington  │\n",
       "│ Commanders was Mark Clouse.'}                                                                                   │\n",
       "╰─────────────────────────────────────────────────────────────────────────────────────────────────────────────────╯\n",
       "</pre>\n"
      ],
      "text/plain": [
       "╭─────────────────────────────────────────────────────────────────────────────────────────────────────────────────╮\n",
       "│ Calling tool: 'final_answer' with arguments: {'answer': 'As of August 1, 2024, the president of the Washington  │\n",
       "│ Commanders was Mark Clouse.'}                                                                                   │\n",
       "╰─────────────────────────────────────────────────────────────────────────────────────────────────────────────────╯\n"
      ]
     },
     "metadata": {},
     "output_type": "display_data"
    },
    {
     "data": {
      "text/html": [
       "<pre style=\"white-space:pre;overflow-x:auto;line-height:normal;font-family:Menlo,'DejaVu Sans Mono',consolas,'Courier New',monospace\"><span style=\"color: #d4b702; text-decoration-color: #d4b702; font-weight: bold\">Final answer: As of August 1, 2024, the president of the Washington Commanders was Mark Clouse.</span>\n",
       "</pre>\n"
      ],
      "text/plain": [
       "\u001b[1;38;2;212;183;2mFinal answer: As of August 1, 2024, the president of the Washington Commanders was Mark Clouse.\u001b[0m\n"
      ]
     },
     "metadata": {},
     "output_type": "display_data"
    },
    {
     "data": {
      "text/html": [
       "<pre style=\"white-space:pre;overflow-x:auto;line-height:normal;font-family:Menlo,'DejaVu Sans Mono',consolas,'Courier New',monospace\"><span style=\"color: #7f7f7f; text-decoration-color: #7f7f7f\">[Step 4: Duration 1.20 seconds| Input tokens: 23,786 | Output tokens: 411]</span>\n",
       "</pre>\n"
      ],
      "text/plain": [
       "\u001b[2m[Step 4: Duration 1.20 seconds| Input tokens: 23,786 | Output tokens: 411]\u001b[0m\n"
      ]
     },
     "metadata": {},
     "output_type": "display_data"
    },
    {
     "name": "stdout",
     "output_type": "stream",
     "text": [
      "As of August 1, 2024, the president of the Washington Commanders was Mark Clouse.\n"
     ]
    }
   ],
   "source": [
    "from opendeepsearch import OpenDeepSearchTool\n",
    "from opendeepsearch.wolfram_tool import WolframAlphaTool\n",
    "from opendeepsearch.prompts import REACT_PROMPT\n",
    "from smolagents import LiteLLMModel, ToolCallingAgent, Tool\n",
    "import os\n",
    "\n",
    "# os.environ[\"LITELLM_MODEL_ID\"] = \"fireworks_ai/accounts/fireworks/models/llama-v3-70b-instruct\"\n",
    "# os.environ[\"LITELLM_SEARCH_MODEL_ID\"] = \"fireworks_ai/accounts/fireworks/models/llama-v3-70b-instruct\"\n",
    "# os.environ[\"LITELLM_ORCHESTRATOR_MODEL_ID\"] = \"fireworks_ai/accounts/fireworks/models/llama-v3-70b-instruct\"\n",
    "# os.environ[\"LITELLM_EVAL_MODEL_ID\"] = \"fireworks_ai/accounts/fireworks/models/llama-v3-70b-instruct\"\n",
    "\n",
    "os.environ[\"SERPER_API_KEY\"] = \"e638d76ed48e55d1a0f52634096d1e2bbfcba6c2\"  # If using Serper\n",
    "# Or for SearXNG\n",
    "# os.environ[\"SEARXNG_INSTANCE_URL\"] = \"https://your-searxng-instance.com\"\n",
    "# os.environ[\"SEARXNG_API_KEY\"] = \"your-api-key-here\"  # Optional\n",
    "\n",
    "\n",
    "os.environ[\"FIREWORKS_API_KEY\"] = \"fw_3ZWPyAMiMEbfV8vorFT2gpcV\"\n",
    "os.environ[\"JINA_API_KEY\"] = \"jina_079d614692a44bba9963e5dc206775498EU9alaQ9XNsmPn0_1mr9kAL26MJ\"\n",
    "\n",
    "\n",
    "os.environ[\"WOLFRAM_ALPHA_APP_ID\"] = \"Q6Y5YV-8TGGQ6TGKG\"\n",
    "\n",
    "# model_name = \"fireworks_ai/accounts/sentientfoundation/models/dobby-unhinged-llama-3-3-70b-new\"\n",
    "\n",
    "model_lite_llm = \"fireworks_ai/accounts/fireworks/models/llama-v3p3-70b-instruct\"\n",
    "# model_ods = \"fireworks_ai/accounts/fireworks/models/qwq-32b\"\n",
    "model_ods = \"fireworks_ai/accounts/fireworks/models/qwen2p5-coder-32b-instruct\"\n",
    "\n",
    "# model_name = \"fireworks_ai/accounts/fireworks/models/deepseek-r1\"\n",
    "# model_name = \"fireworks_ai/accounts/fireworks/models/phi-3-vision-128k-instruct\"\n",
    "# model_name2 = \"fireworks_ai/accounts/fireworks/models/dolphin-2-9-2-qwen2-72b\"\n",
    "# model_name2 = \"fireworks_ai/accounts/fireworks/models/dolphin-2-9-2-qwen2-72b\"\n",
    "\n",
    "\n",
    "model = LiteLLMModel(\n",
    "    model_id=model_ods,\n",
    "    temperature=0.1,\n",
    "    max_completion_tokens=8192,\n",
    ")\n",
    "search_agent = OpenDeepSearchTool(model_name=model_ods, reranker=\"infinity\") # Set reranker to \"jina\" or \"infinity\"\n",
    "\n",
    "# Initialize the Wolfram Alpha tool\n",
    "wolfram_tool = WolframAlphaTool(app_id=os.environ[\"WOLFRAM_ALPHA_APP_ID\"])\n",
    "\n",
    "# Initialize the React Agent with search and wolfram tools\n",
    "react_agent = ToolCallingAgent(\n",
    "    tools=[search_agent],\n",
    "    # tools=[search_agent, wolfram_tool],\n",
    "    model=model,\n",
    "    prompt_templates=REACT_PROMPT # Using REACT_PROMPT as system prompt\n",
    ")\n",
    "\n",
    "# Example query for the React Agent\n",
    "# query = \"How many years earlier would Punxsutawney Phil have to be canonically alive to have made a Groundhog Day prediction in the same state as the US capitol?\"\n",
    "# query = \"What is the square root of the age of the wife of the second president of the United States at her death?\"\n",
    "query = \"As of August 1, 2024, who is the president of the team that inspired the original name of the Washington Commanders?\"\n",
    "result = react_agent.run(query)\n",
    "\n",
    "print(result)"
   ]
  },
  {
   "cell_type": "code",
   "execution_count": 15,
   "metadata": {},
   "outputs": [
    {
     "name": "stdout",
     "output_type": "stream",
     "text": [
      "ModelResponse(id='b41784b1-5dd9-4efd-8ed3-b020e14a8f0b', created=1743859966, model='fireworks_ai/accounts/fireworks/models/phi-3-vision-128k-instruct', object='chat.completion', system_fingerprint=None, choices=[Choices(finish_reason='stop', index=0, message=Message(content=' Hello! Welcome to Lite.com! How can I help you today?', role='assistant', tool_calls=None, function_call=None, provider_specific_fields={'refusal': None}))], usage=Usage(completion_tokens=17, prompt_tokens=13, total_tokens=30, completion_tokens_details=None, prompt_tokens_details=None), service_tier=None)\n"
     ]
    }
   ],
   "source": [
    "from litellm import completion\n",
    "import os\n",
    "os.environ[\"FIREWORKS_API_KEY\"] = \"fw_3ZWPyAMiMEbfV8vorFT2gpcV\"\n",
    "\n",
    "response = completion(\n",
    "    model=\"fireworks_ai/accounts/fireworks/models/phi-3-vision-128k-instruct\", \n",
    "    messages=[\n",
    "       {\"role\": \"user\", \"content\": \"hello from litellm\"}\n",
    "   ],\n",
    ")\n",
    "print(response)"
   ]
  },
  {
   "cell_type": "code",
   "execution_count": null,
   "metadata": {},
   "outputs": [
    {
     "data": {
      "text/html": [
       "<pre style=\"white-space:pre;overflow-x:auto;line-height:normal;font-family:Menlo,'DejaVu Sans Mono',consolas,'Courier New',monospace\"><span style=\"color: #d4b702; text-decoration-color: #d4b702\">╭──────────────────────────────────────────────────── </span><span style=\"color: #d4b702; text-decoration-color: #d4b702; font-weight: bold\">New run</span><span style=\"color: #d4b702; text-decoration-color: #d4b702\"> ────────────────────────────────────────────────────╮</span>\n",
       "<span style=\"color: #d4b702; text-decoration-color: #d4b702\">│</span>                                                                                                                 <span style=\"color: #d4b702; text-decoration-color: #d4b702\">│</span>\n",
       "<span style=\"color: #d4b702; text-decoration-color: #d4b702\">│</span> <span style=\"font-weight: bold\">As of August 1, 2024, who is the president of the team that inspired the original name of the Washington </span>       <span style=\"color: #d4b702; text-decoration-color: #d4b702\">│</span>\n",
       "<span style=\"color: #d4b702; text-decoration-color: #d4b702\">│</span> <span style=\"font-weight: bold\">Commanders?</span>                                                                                                     <span style=\"color: #d4b702; text-decoration-color: #d4b702\">│</span>\n",
       "<span style=\"color: #d4b702; text-decoration-color: #d4b702\">│</span>                                                                                                                 <span style=\"color: #d4b702; text-decoration-color: #d4b702\">│</span>\n",
       "<span style=\"color: #d4b702; text-decoration-color: #d4b702\">╰─ LiteLLMModel - fireworks_ai/accounts/fireworks/models/qwen2p5-coder-32b-instruct ──────────────────────────────╯</span>\n",
       "</pre>\n"
      ],
      "text/plain": [
       "\u001b[38;2;212;183;2m╭─\u001b[0m\u001b[38;2;212;183;2m───────────────────────────────────────────────────\u001b[0m\u001b[38;2;212;183;2m \u001b[0m\u001b[1;38;2;212;183;2mNew run\u001b[0m\u001b[38;2;212;183;2m \u001b[0m\u001b[38;2;212;183;2m───────────────────────────────────────────────────\u001b[0m\u001b[38;2;212;183;2m─╮\u001b[0m\n",
       "\u001b[38;2;212;183;2m│\u001b[0m                                                                                                                 \u001b[38;2;212;183;2m│\u001b[0m\n",
       "\u001b[38;2;212;183;2m│\u001b[0m \u001b[1mAs of August 1, 2024, who is the president of the team that inspired the original name of the Washington \u001b[0m       \u001b[38;2;212;183;2m│\u001b[0m\n",
       "\u001b[38;2;212;183;2m│\u001b[0m \u001b[1mCommanders?\u001b[0m                                                                                                     \u001b[38;2;212;183;2m│\u001b[0m\n",
       "\u001b[38;2;212;183;2m│\u001b[0m                                                                                                                 \u001b[38;2;212;183;2m│\u001b[0m\n",
       "\u001b[38;2;212;183;2m╰─\u001b[0m\u001b[38;2;212;183;2m LiteLLMModel - fireworks_ai/accounts/fireworks/models/qwen2p5-coder-32b-instruct \u001b[0m\u001b[38;2;212;183;2m─────────────────────────────\u001b[0m\u001b[38;2;212;183;2m─╯\u001b[0m\n"
      ]
     },
     "metadata": {},
     "output_type": "display_data"
    },
    {
     "data": {
      "text/html": [
       "<pre style=\"white-space:pre;overflow-x:auto;line-height:normal;font-family:Menlo,'DejaVu Sans Mono',consolas,'Courier New',monospace\"><span style=\"color: #d4b702; text-decoration-color: #d4b702\">━━━━━━━━━━━━━━━━━━━━━━━━━━━━━━━━━━━━━━━━━━━━━━━━━━━━━ </span><span style=\"font-weight: bold\">Step </span><span style=\"color: #008080; text-decoration-color: #008080; font-weight: bold\">1</span><span style=\"color: #d4b702; text-decoration-color: #d4b702\"> ━━━━━━━━━━━━━━━━━━━━━━━━━━━━━━━━━━━━━━━━━━━━━━━━━━━━━━</span>\n",
       "</pre>\n"
      ],
      "text/plain": [
       "\u001b[38;2;212;183;2m━━━━━━━━━━━━━━━━━━━━━━━━━━━━━━━━━━━━━━━━━━━━━━━━━━━━━ \u001b[0m\u001b[1mStep \u001b[0m\u001b[1;36m1\u001b[0m\u001b[38;2;212;183;2m ━━━━━━━━━━━━━━━━━━━━━━━━━━━━━━━━━━━━━━━━━━━━━━━━━━━━━━\u001b[0m\n"
      ]
     },
     "metadata": {},
     "output_type": "display_data"
    },
    {
     "data": {
      "text/html": [
       "<pre style=\"white-space:pre;overflow-x:auto;line-height:normal;font-family:Menlo,'DejaVu Sans Mono',consolas,'Courier New',monospace\"> ─ <span style=\"font-weight: bold\">Executing parsed code:</span> ──────────────────────────────────────────────────────────────────────────────────────── \n",
       "  <span style=\"color: #f8f8f2; text-decoration-color: #f8f8f2; background-color: #272822\">original_name </span><span style=\"color: #ff4689; text-decoration-color: #ff4689; background-color: #272822\">=</span><span style=\"color: #f8f8f2; text-decoration-color: #f8f8f2; background-color: #272822\"> web_search(query</span><span style=\"color: #ff4689; text-decoration-color: #ff4689; background-color: #272822\">=</span><span style=\"color: #e6db74; text-decoration-color: #e6db74; background-color: #272822\">\"original name of Washington Commanders\"</span><span style=\"color: #f8f8f2; text-decoration-color: #f8f8f2; background-color: #272822\">)</span><span style=\"background-color: #272822\">                                     </span>  \n",
       "  <span style=\"color: #f8f8f2; text-decoration-color: #f8f8f2; background-color: #272822\">print(</span><span style=\"color: #e6db74; text-decoration-color: #e6db74; background-color: #272822\">\"Original name of Washington Commanders:\"</span><span style=\"color: #f8f8f2; text-decoration-color: #f8f8f2; background-color: #272822\">, original_name)</span><span style=\"background-color: #272822\">                                                </span>  \n",
       " ───────────────────────────────────────────────────────────────────────────────────────────────────────────────── \n",
       "</pre>\n"
      ],
      "text/plain": [
       " ─ \u001b[1mExecuting parsed code:\u001b[0m ──────────────────────────────────────────────────────────────────────────────────────── \n",
       "  \u001b[38;2;248;248;242;48;2;39;40;34moriginal_name\u001b[0m\u001b[38;2;248;248;242;48;2;39;40;34m \u001b[0m\u001b[38;2;255;70;137;48;2;39;40;34m=\u001b[0m\u001b[38;2;248;248;242;48;2;39;40;34m \u001b[0m\u001b[38;2;248;248;242;48;2;39;40;34mweb_search\u001b[0m\u001b[38;2;248;248;242;48;2;39;40;34m(\u001b[0m\u001b[38;2;248;248;242;48;2;39;40;34mquery\u001b[0m\u001b[38;2;255;70;137;48;2;39;40;34m=\u001b[0m\u001b[38;2;230;219;116;48;2;39;40;34m\"\u001b[0m\u001b[38;2;230;219;116;48;2;39;40;34moriginal name of Washington Commanders\u001b[0m\u001b[38;2;230;219;116;48;2;39;40;34m\"\u001b[0m\u001b[38;2;248;248;242;48;2;39;40;34m)\u001b[0m\u001b[48;2;39;40;34m                                     \u001b[0m  \n",
       "  \u001b[38;2;248;248;242;48;2;39;40;34mprint\u001b[0m\u001b[38;2;248;248;242;48;2;39;40;34m(\u001b[0m\u001b[38;2;230;219;116;48;2;39;40;34m\"\u001b[0m\u001b[38;2;230;219;116;48;2;39;40;34mOriginal name of Washington Commanders:\u001b[0m\u001b[38;2;230;219;116;48;2;39;40;34m\"\u001b[0m\u001b[38;2;248;248;242;48;2;39;40;34m,\u001b[0m\u001b[38;2;248;248;242;48;2;39;40;34m \u001b[0m\u001b[38;2;248;248;242;48;2;39;40;34moriginal_name\u001b[0m\u001b[38;2;248;248;242;48;2;39;40;34m)\u001b[0m\u001b[48;2;39;40;34m                                                \u001b[0m  \n",
       " ───────────────────────────────────────────────────────────────────────────────────────────────────────────────── \n"
      ]
     },
     "metadata": {},
     "output_type": "display_data"
    },
    {
     "name": "stdout",
     "output_type": "stream",
     "text": [
      "Using Infinity Reranker\n"
     ]
    },
    {
     "data": {
      "text/html": [
       "<pre style=\"white-space:pre;overflow-x:auto;line-height:normal;font-family:Menlo,'DejaVu Sans Mono',consolas,'Courier New',monospace\"><span style=\"font-weight: bold\">Execution logs:</span>\n",
       "Original name of Washington Commanders: The original name of the Washington Commanders was the Boston Braves. The \n",
       "team was founded as the Boston Braves in 1932 and changed its name to the Boston Redskins in 1933 before moving to \n",
       "Washington, D.C. in 1937.\n",
       "\n",
       "Out: None\n",
       "</pre>\n"
      ],
      "text/plain": [
       "\u001b[1mExecution logs:\u001b[0m\n",
       "Original name of Washington Commanders: The original name of the Washington Commanders was the Boston Braves. The \n",
       "team was founded as the Boston Braves in 1932 and changed its name to the Boston Redskins in 1933 before moving to \n",
       "Washington, D.C. in 1937.\n",
       "\n",
       "Out: None\n"
      ]
     },
     "metadata": {},
     "output_type": "display_data"
    },
    {
     "data": {
      "text/html": [
       "<pre style=\"white-space:pre;overflow-x:auto;line-height:normal;font-family:Menlo,'DejaVu Sans Mono',consolas,'Courier New',monospace\"><span style=\"color: #7f7f7f; text-decoration-color: #7f7f7f\">[Step 1: Duration 25.66 seconds| Input tokens: 2,103 | Output tokens: 107]</span>\n",
       "</pre>\n"
      ],
      "text/plain": [
       "\u001b[2m[Step 1: Duration 25.66 seconds| Input tokens: 2,103 | Output tokens: 107]\u001b[0m\n"
      ]
     },
     "metadata": {},
     "output_type": "display_data"
    },
    {
     "data": {
      "text/html": [
       "<pre style=\"white-space:pre;overflow-x:auto;line-height:normal;font-family:Menlo,'DejaVu Sans Mono',consolas,'Courier New',monospace\"><span style=\"color: #d4b702; text-decoration-color: #d4b702\">━━━━━━━━━━━━━━━━━━━━━━━━━━━━━━━━━━━━━━━━━━━━━━━━━━━━━ </span><span style=\"font-weight: bold\">Step </span><span style=\"color: #008080; text-decoration-color: #008080; font-weight: bold\">2</span><span style=\"color: #d4b702; text-decoration-color: #d4b702\"> ━━━━━━━━━━━━━━━━━━━━━━━━━━━━━━━━━━━━━━━━━━━━━━━━━━━━━━</span>\n",
       "</pre>\n"
      ],
      "text/plain": [
       "\u001b[38;2;212;183;2m━━━━━━━━━━━━━━━━━━━━━━━━━━━━━━━━━━━━━━━━━━━━━━━━━━━━━ \u001b[0m\u001b[1mStep \u001b[0m\u001b[1;36m2\u001b[0m\u001b[38;2;212;183;2m ━━━━━━━━━━━━━━━━━━━━━━━━━━━━━━━━━━━━━━━━━━━━━━━━━━━━━━\u001b[0m\n"
      ]
     },
     "metadata": {},
     "output_type": "display_data"
    },
    {
     "data": {
      "text/html": [
       "<pre style=\"white-space:pre;overflow-x:auto;line-height:normal;font-family:Menlo,'DejaVu Sans Mono',consolas,'Courier New',monospace\"> ─ <span style=\"font-weight: bold\">Executing parsed code:</span> ──────────────────────────────────────────────────────────────────────────────────────── \n",
       "  <span style=\"color: #f8f8f2; text-decoration-color: #f8f8f2; background-color: #272822\">boston_red_sox_president </span><span style=\"color: #ff4689; text-decoration-color: #ff4689; background-color: #272822\">=</span><span style=\"color: #f8f8f2; text-decoration-color: #f8f8f2; background-color: #272822\"> web_search(query</span><span style=\"color: #ff4689; text-decoration-color: #ff4689; background-color: #272822\">=</span><span style=\"color: #e6db74; text-decoration-color: #e6db74; background-color: #272822\">\"president of Boston Red Sox as of August 1, 2024\"</span><span style=\"color: #f8f8f2; text-decoration-color: #f8f8f2; background-color: #272822\">)</span><span style=\"background-color: #272822\">                </span>  \n",
       "  <span style=\"color: #f8f8f2; text-decoration-color: #f8f8f2; background-color: #272822\">print(</span><span style=\"color: #e6db74; text-decoration-color: #e6db74; background-color: #272822\">\"President of Boston Red Sox as of August 1, 2024:\"</span><span style=\"color: #f8f8f2; text-decoration-color: #f8f8f2; background-color: #272822\">, boston_red_sox_president)</span><span style=\"background-color: #272822\">                           </span>  \n",
       " ───────────────────────────────────────────────────────────────────────────────────────────────────────────────── \n",
       "</pre>\n"
      ],
      "text/plain": [
       " ─ \u001b[1mExecuting parsed code:\u001b[0m ──────────────────────────────────────────────────────────────────────────────────────── \n",
       "  \u001b[38;2;248;248;242;48;2;39;40;34mboston_red_sox_president\u001b[0m\u001b[38;2;248;248;242;48;2;39;40;34m \u001b[0m\u001b[38;2;255;70;137;48;2;39;40;34m=\u001b[0m\u001b[38;2;248;248;242;48;2;39;40;34m \u001b[0m\u001b[38;2;248;248;242;48;2;39;40;34mweb_search\u001b[0m\u001b[38;2;248;248;242;48;2;39;40;34m(\u001b[0m\u001b[38;2;248;248;242;48;2;39;40;34mquery\u001b[0m\u001b[38;2;255;70;137;48;2;39;40;34m=\u001b[0m\u001b[38;2;230;219;116;48;2;39;40;34m\"\u001b[0m\u001b[38;2;230;219;116;48;2;39;40;34mpresident of Boston Red Sox as of August 1, 2024\u001b[0m\u001b[38;2;230;219;116;48;2;39;40;34m\"\u001b[0m\u001b[38;2;248;248;242;48;2;39;40;34m)\u001b[0m\u001b[48;2;39;40;34m                \u001b[0m  \n",
       "  \u001b[38;2;248;248;242;48;2;39;40;34mprint\u001b[0m\u001b[38;2;248;248;242;48;2;39;40;34m(\u001b[0m\u001b[38;2;230;219;116;48;2;39;40;34m\"\u001b[0m\u001b[38;2;230;219;116;48;2;39;40;34mPresident of Boston Red Sox as of August 1, 2024:\u001b[0m\u001b[38;2;230;219;116;48;2;39;40;34m\"\u001b[0m\u001b[38;2;248;248;242;48;2;39;40;34m,\u001b[0m\u001b[38;2;248;248;242;48;2;39;40;34m \u001b[0m\u001b[38;2;248;248;242;48;2;39;40;34mboston_red_sox_president\u001b[0m\u001b[38;2;248;248;242;48;2;39;40;34m)\u001b[0m\u001b[48;2;39;40;34m                           \u001b[0m  \n",
       " ───────────────────────────────────────────────────────────────────────────────────────────────────────────────── \n"
      ]
     },
     "metadata": {},
     "output_type": "display_data"
    },
    {
     "name": "stdout",
     "output_type": "stream",
     "text": [
      "Using Infinity Reranker\n"
     ]
    },
    {
     "data": {
      "text/html": [
       "<pre style=\"white-space:pre;overflow-x:auto;line-height:normal;font-family:Menlo,'DejaVu Sans Mono',consolas,'Courier New',monospace\"><span style=\"font-weight: bold\">Execution logs:</span>\n",
       "President of Boston Red Sox as of August 1, 2024: As of August 1, 2024, the President and CEO of the Boston Red Sox\n",
       "is Sam Kennedy.\n",
       "\n",
       "Out: None\n",
       "</pre>\n"
      ],
      "text/plain": [
       "\u001b[1mExecution logs:\u001b[0m\n",
       "President of Boston Red Sox as of August 1, 2024: As of August 1, 2024, the President and CEO of the Boston Red Sox\n",
       "is Sam Kennedy.\n",
       "\n",
       "Out: None\n"
      ]
     },
     "metadata": {},
     "output_type": "display_data"
    },
    {
     "data": {
      "text/html": [
       "<pre style=\"white-space:pre;overflow-x:auto;line-height:normal;font-family:Menlo,'DejaVu Sans Mono',consolas,'Courier New',monospace\"><span style=\"color: #7f7f7f; text-decoration-color: #7f7f7f\">[Step 2: Duration 7.66 seconds| Input tokens: 4,472 | Output tokens: 276]</span>\n",
       "</pre>\n"
      ],
      "text/plain": [
       "\u001b[2m[Step 2: Duration 7.66 seconds| Input tokens: 4,472 | Output tokens: 276]\u001b[0m\n"
      ]
     },
     "metadata": {},
     "output_type": "display_data"
    },
    {
     "data": {
      "text/html": [
       "<pre style=\"white-space:pre;overflow-x:auto;line-height:normal;font-family:Menlo,'DejaVu Sans Mono',consolas,'Courier New',monospace\"><span style=\"color: #d4b702; text-decoration-color: #d4b702\">━━━━━━━━━━━━━━━━━━━━━━━━━━━━━━━━━━━━━━━━━━━━━━━━━━━━━ </span><span style=\"font-weight: bold\">Step </span><span style=\"color: #008080; text-decoration-color: #008080; font-weight: bold\">3</span><span style=\"color: #d4b702; text-decoration-color: #d4b702\"> ━━━━━━━━━━━━━━━━━━━━━━━━━━━━━━━━━━━━━━━━━━━━━━━━━━━━━━</span>\n",
       "</pre>\n"
      ],
      "text/plain": [
       "\u001b[38;2;212;183;2m━━━━━━━━━━━━━━━━━━━━━━━━━━━━━━━━━━━━━━━━━━━━━━━━━━━━━ \u001b[0m\u001b[1mStep \u001b[0m\u001b[1;36m3\u001b[0m\u001b[38;2;212;183;2m ━━━━━━━━━━━━━━━━━━━━━━━━━━━━━━━━━━━━━━━━━━━━━━━━━━━━━━\u001b[0m\n"
      ]
     },
     "metadata": {},
     "output_type": "display_data"
    },
    {
     "data": {
      "text/html": [
       "<pre style=\"white-space:pre;overflow-x:auto;line-height:normal;font-family:Menlo,'DejaVu Sans Mono',consolas,'Courier New',monospace\"> ─ <span style=\"font-weight: bold\">Executing parsed code:</span> ──────────────────────────────────────────────────────────────────────────────────────── \n",
       "  <span style=\"color: #f8f8f2; text-decoration-color: #f8f8f2; background-color: #272822\">final_answer(</span><span style=\"color: #e6db74; text-decoration-color: #e6db74; background-color: #272822\">\"Sam Kennedy\"</span><span style=\"color: #f8f8f2; text-decoration-color: #f8f8f2; background-color: #272822\">)</span><span style=\"background-color: #272822\">                                                                                    </span>  \n",
       " ───────────────────────────────────────────────────────────────────────────────────────────────────────────────── \n",
       "</pre>\n"
      ],
      "text/plain": [
       " ─ \u001b[1mExecuting parsed code:\u001b[0m ──────────────────────────────────────────────────────────────────────────────────────── \n",
       "  \u001b[38;2;248;248;242;48;2;39;40;34mfinal_answer\u001b[0m\u001b[38;2;248;248;242;48;2;39;40;34m(\u001b[0m\u001b[38;2;230;219;116;48;2;39;40;34m\"\u001b[0m\u001b[38;2;230;219;116;48;2;39;40;34mSam Kennedy\u001b[0m\u001b[38;2;230;219;116;48;2;39;40;34m\"\u001b[0m\u001b[38;2;248;248;242;48;2;39;40;34m)\u001b[0m\u001b[48;2;39;40;34m                                                                                    \u001b[0m  \n",
       " ───────────────────────────────────────────────────────────────────────────────────────────────────────────────── \n"
      ]
     },
     "metadata": {},
     "output_type": "display_data"
    },
    {
     "data": {
      "text/html": [
       "<pre style=\"white-space:pre;overflow-x:auto;line-height:normal;font-family:Menlo,'DejaVu Sans Mono',consolas,'Courier New',monospace\"><span style=\"color: #d4b702; text-decoration-color: #d4b702; font-weight: bold\">Out - Final answer: Sam Kennedy</span>\n",
       "</pre>\n"
      ],
      "text/plain": [
       "\u001b[1;38;2;212;183;2mOut - Final answer: Sam Kennedy\u001b[0m\n"
      ]
     },
     "metadata": {},
     "output_type": "display_data"
    },
    {
     "data": {
      "text/html": [
       "<pre style=\"white-space:pre;overflow-x:auto;line-height:normal;font-family:Menlo,'DejaVu Sans Mono',consolas,'Courier New',monospace\"><span style=\"color: #7f7f7f; text-decoration-color: #7f7f7f\">[Step 3: Duration 1.86 seconds| Input tokens: 7,179 | Output tokens: 342]</span>\n",
       "</pre>\n"
      ],
      "text/plain": [
       "\u001b[2m[Step 3: Duration 1.86 seconds| Input tokens: 7,179 | Output tokens: 342]\u001b[0m\n"
      ]
     },
     "metadata": {},
     "output_type": "display_data"
    },
    {
     "name": "stdout",
     "output_type": "stream",
     "text": [
      "Sam Kennedy\n"
     ]
    }
   ],
   "source": [
    "from opendeepsearch import OpenDeepSearchTool\n",
    "from smolagents import CodeAgent, LiteLLMModel\n",
    "import os\n",
    "\n",
    "# Set environment variables for API keys\n",
    "os.environ[\"SERPER_API_KEY\"] = \"e638d76ed48e55d1a0f52634096d1e2bbfcba6c2\"  # If using Serper\n",
    "# Or for SearXNG\n",
    "# os.environ[\"SEARXNG_INSTANCE_URL\"] = \"https://your-searxng-instance.com\"\n",
    "# os.environ[\"SEARXNG_API_KEY\"] = \"your-api-key-here\"  # Optional\n",
    "\n",
    "\n",
    "\n",
    "os.environ[\"FIREWORKS_API_KEY\"] = \"fw_3ZWPyAMiMEbfV8vorFT2gpcV\"\n",
    "os.environ[\"JINA_API_KEY\"] = \"jina_079d614692a44bba9963e5dc206775498EU9alaQ9XNsmPn0_1mr9kAL26MJ\"\n",
    "\n",
    "\n",
    "os.environ[\"WOLFRAM_ALPHA_APP_ID\"] = \"Q6Y5YV-8TGGQ6TGKG\"\n",
    "\n",
    "\n",
    "model_lite_llm = \"fireworks_ai/accounts/fireworks/models/llama-v3p3-70b-instruct\"\n",
    "model_lite_llm = \"fireworks_ai/accounts/fireworks/models/llama-v3p3-70b-instruct\"\n",
    "# model_ods = \"fireworks_ai/accounts/fireworks/models/qwq-32b\"\n",
    "model_ods = \"fireworks_ai/accounts/fireworks/models/qwen2p5-coder-32b-instruct\"\n",
    "model_lite_llm = \"fireworks_ai/accounts/fireworks/models/qwen2p5-coder-32b-instruct\"\n",
    "\n",
    "\n",
    "# Using Serper (default)\n",
    "search_agent = OpenDeepSearchTool(\n",
    "    model_name=model_ods,\n",
    "    reranker=\"infinity\"\n",
    ")\n",
    "\n",
    "# Or using SearXNG\n",
    "# search_agent = OpenDeepSearchTool(\n",
    "#     model_name=\"openrouter/google/gemini-2.0-flash-001\",\n",
    "#     reranker=\"jina\",\n",
    "#     search_provider=\"searxng\",\n",
    "#     searxng_instance_url=\"https://your-searxng-instance.com\",\n",
    "#     searxng_api_key=\"your-api-key-here\"  # Optional\n",
    "# )\n",
    "\n",
    "model = LiteLLMModel(\n",
    "    model_lite_llm,\n",
    "    temperature=0.2\n",
    ")\n",
    "\n",
    "code_agent = CodeAgent(tools=[search_agent], model=model)\n",
    "query = \"How long would a cheetah at full speed take to run the length of Pont Alexandre III?\"\n",
    "\n",
    "# query = \"How many years earlier would Punxsutawney Phil have to be canonically alive to have made a Groundhog Day prediction in the same state as the US capitol?\"\n",
    "# query = \"What is the square root of the age of the wife of the second president of the United States at her death?\"\n",
    "query = \"As of August 1, 2024, who is the president of the team that inspired the original name of the Washington Commanders?\"\n",
    "\n",
    "result = code_agent.run(query)\n",
    "\n",
    "print(result)"
   ]
  },
  {
   "cell_type": "code",
   "execution_count": null,
   "metadata": {},
   "outputs": [],
   "source": []
  }
 ],
 "metadata": {
  "kernelspec": {
   "display_name": "datathon2025",
   "language": "python",
   "name": "python3"
  },
  "language_info": {
   "codemirror_mode": {
    "name": "ipython",
    "version": 3
   },
   "file_extension": ".py",
   "mimetype": "text/x-python",
   "name": "python",
   "nbconvert_exporter": "python",
   "pygments_lexer": "ipython3",
   "version": "3.10.16"
  }
 },
 "nbformat": 4,
 "nbformat_minor": 2
}
