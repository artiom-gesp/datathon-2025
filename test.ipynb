{
 "cells": [
  {
   "cell_type": "code",
   "execution_count": 26,
   "metadata": {},
   "outputs": [
    {
     "data": {
      "text/html": [
       "<pre style=\"white-space:pre;overflow-x:auto;line-height:normal;font-family:Menlo,'DejaVu Sans Mono',consolas,'Courier New',monospace\"><span style=\"color: #d4b702; text-decoration-color: #d4b702\">╭──────────────────────────────────────────────────── </span><span style=\"color: #d4b702; text-decoration-color: #d4b702; font-weight: bold\">New run</span><span style=\"color: #d4b702; text-decoration-color: #d4b702\"> ────────────────────────────────────────────────────╮</span>\n",
       "<span style=\"color: #d4b702; text-decoration-color: #d4b702\">│</span>                                                                                                                 <span style=\"color: #d4b702; text-decoration-color: #d4b702\">│</span>\n",
       "<span style=\"color: #d4b702; text-decoration-color: #d4b702\">│</span> <span style=\"font-weight: bold\">How many years earlier would Punxsutawney Phil have to be canonically alive to have made a Groundhog Day </span>       <span style=\"color: #d4b702; text-decoration-color: #d4b702\">│</span>\n",
       "<span style=\"color: #d4b702; text-decoration-color: #d4b702\">│</span> <span style=\"font-weight: bold\">prediction in the same state as the US capitol?</span>                                                                 <span style=\"color: #d4b702; text-decoration-color: #d4b702\">│</span>\n",
       "<span style=\"color: #d4b702; text-decoration-color: #d4b702\">│</span>                                                                                                                 <span style=\"color: #d4b702; text-decoration-color: #d4b702\">│</span>\n",
       "<span style=\"color: #d4b702; text-decoration-color: #d4b702\">╰─ LiteLLMModel - fireworks_ai/accounts/fireworks/models/llama-v3p3-70b-instruct ─────────────────────────────────╯</span>\n",
       "</pre>\n"
      ],
      "text/plain": [
       "\u001b[38;2;212;183;2m╭─\u001b[0m\u001b[38;2;212;183;2m───────────────────────────────────────────────────\u001b[0m\u001b[38;2;212;183;2m \u001b[0m\u001b[1;38;2;212;183;2mNew run\u001b[0m\u001b[38;2;212;183;2m \u001b[0m\u001b[38;2;212;183;2m───────────────────────────────────────────────────\u001b[0m\u001b[38;2;212;183;2m─╮\u001b[0m\n",
       "\u001b[38;2;212;183;2m│\u001b[0m                                                                                                                 \u001b[38;2;212;183;2m│\u001b[0m\n",
       "\u001b[38;2;212;183;2m│\u001b[0m \u001b[1mHow many years earlier would Punxsutawney Phil have to be canonically alive to have made a Groundhog Day \u001b[0m       \u001b[38;2;212;183;2m│\u001b[0m\n",
       "\u001b[38;2;212;183;2m│\u001b[0m \u001b[1mprediction in the same state as the US capitol?\u001b[0m                                                                 \u001b[38;2;212;183;2m│\u001b[0m\n",
       "\u001b[38;2;212;183;2m│\u001b[0m                                                                                                                 \u001b[38;2;212;183;2m│\u001b[0m\n",
       "\u001b[38;2;212;183;2m╰─\u001b[0m\u001b[38;2;212;183;2m LiteLLMModel - fireworks_ai/accounts/fireworks/models/llama-v3p3-70b-instruct \u001b[0m\u001b[38;2;212;183;2m────────────────────────────────\u001b[0m\u001b[38;2;212;183;2m─╯\u001b[0m\n"
      ]
     },
     "metadata": {},
     "output_type": "display_data"
    },
    {
     "data": {
      "text/html": [
       "<pre style=\"white-space:pre;overflow-x:auto;line-height:normal;font-family:Menlo,'DejaVu Sans Mono',consolas,'Courier New',monospace\"><span style=\"color: #d4b702; text-decoration-color: #d4b702\">━━━━━━━━━━━━━━━━━━━━━━━━━━━━━━━━━━━━━━━━━━━━━━━━━━━━━ </span><span style=\"font-weight: bold\">Step </span><span style=\"color: #008080; text-decoration-color: #008080; font-weight: bold\">1</span><span style=\"color: #d4b702; text-decoration-color: #d4b702\"> ━━━━━━━━━━━━━━━━━━━━━━━━━━━━━━━━━━━━━━━━━━━━━━━━━━━━━━</span>\n",
       "</pre>\n"
      ],
      "text/plain": [
       "\u001b[38;2;212;183;2m━━━━━━━━━━━━━━━━━━━━━━━━━━━━━━━━━━━━━━━━━━━━━━━━━━━━━ \u001b[0m\u001b[1mStep \u001b[0m\u001b[1;36m1\u001b[0m\u001b[38;2;212;183;2m ━━━━━━━━━━━━━━━━━━━━━━━━━━━━━━━━━━━━━━━━━━━━━━━━━━━━━━\u001b[0m\n"
      ]
     },
     "metadata": {},
     "output_type": "display_data"
    },
    {
     "data": {
      "text/html": [
       "<pre style=\"white-space:pre;overflow-x:auto;line-height:normal;font-family:Menlo,'DejaVu Sans Mono',consolas,'Courier New',monospace\">╭─────────────────────────────────────────────────────────────────────────────────────────────────────────────────╮\n",
       "│ Calling tool: 'calculate' with arguments: {'query': 'Punxsutawney Phil birth year - 1800'}                      │\n",
       "╰─────────────────────────────────────────────────────────────────────────────────────────────────────────────────╯\n",
       "</pre>\n"
      ],
      "text/plain": [
       "╭─────────────────────────────────────────────────────────────────────────────────────────────────────────────────╮\n",
       "│ Calling tool: 'calculate' with arguments: {'query': 'Punxsutawney Phil birth year - 1800'}                      │\n",
       "╰─────────────────────────────────────────────────────────────────────────────────────────────────────────────────╯\n"
      ]
     },
     "metadata": {},
     "output_type": "display_data"
    },
    {
     "name": "stdout",
     "output_type": "stream",
     "text": [
      "QUERY: Punxsutawney Phil birth year - 1800\n",
      "\n",
      "RESULT: (data not available)\n"
     ]
    },
    {
     "data": {
      "text/html": [
       "<pre style=\"white-space:pre;overflow-x:auto;line-height:normal;font-family:Menlo,'DejaVu Sans Mono',consolas,'Courier New',monospace\">Observations: <span style=\"font-weight: bold\">(</span>data not available<span style=\"font-weight: bold\">)</span>\n",
       "</pre>\n"
      ],
      "text/plain": [
       "Observations: \u001b[1m(\u001b[0mdata not available\u001b[1m)\u001b[0m\n"
      ]
     },
     "metadata": {},
     "output_type": "display_data"
    },
    {
     "data": {
      "text/html": [
       "<pre style=\"white-space:pre;overflow-x:auto;line-height:normal;font-family:Menlo,'DejaVu Sans Mono',consolas,'Courier New',monospace\"><span style=\"color: #7f7f7f; text-decoration-color: #7f7f7f\">[Step 1: Duration 2.68 seconds| Input tokens: 4,154 | Output tokens: 29]</span>\n",
       "</pre>\n"
      ],
      "text/plain": [
       "\u001b[2m[Step 1: Duration 2.68 seconds| Input tokens: 4,154 | Output tokens: 29]\u001b[0m\n"
      ]
     },
     "metadata": {},
     "output_type": "display_data"
    },
    {
     "data": {
      "text/html": [
       "<pre style=\"white-space:pre;overflow-x:auto;line-height:normal;font-family:Menlo,'DejaVu Sans Mono',consolas,'Courier New',monospace\"><span style=\"color: #d4b702; text-decoration-color: #d4b702\">━━━━━━━━━━━━━━━━━━━━━━━━━━━━━━━━━━━━━━━━━━━━━━━━━━━━━ </span><span style=\"font-weight: bold\">Step </span><span style=\"color: #008080; text-decoration-color: #008080; font-weight: bold\">2</span><span style=\"color: #d4b702; text-decoration-color: #d4b702\"> ━━━━━━━━━━━━━━━━━━━━━━━━━━━━━━━━━━━━━━━━━━━━━━━━━━━━━━</span>\n",
       "</pre>\n"
      ],
      "text/plain": [
       "\u001b[38;2;212;183;2m━━━━━━━━━━━━━━━━━━━━━━━━━━━━━━━━━━━━━━━━━━━━━━━━━━━━━ \u001b[0m\u001b[1mStep \u001b[0m\u001b[1;36m2\u001b[0m\u001b[38;2;212;183;2m ━━━━━━━━━━━━━━━━━━━━━━━━━━━━━━━━━━━━━━━━━━━━━━━━━━━━━━\u001b[0m\n"
      ]
     },
     "metadata": {},
     "output_type": "display_data"
    },
    {
     "data": {
      "text/html": [
       "<pre style=\"white-space:pre;overflow-x:auto;line-height:normal;font-family:Menlo,'DejaVu Sans Mono',consolas,'Courier New',monospace\">╭─────────────────────────────────────────────────────────────────────────────────────────────────────────────────╮\n",
       "│ Calling tool: 'web_search' with arguments: {'query': 'Punxsutawney Phil birth year'}                            │\n",
       "╰─────────────────────────────────────────────────────────────────────────────────────────────────────────────────╯\n",
       "</pre>\n"
      ],
      "text/plain": [
       "╭─────────────────────────────────────────────────────────────────────────────────────────────────────────────────╮\n",
       "│ Calling tool: 'web_search' with arguments: {'query': 'Punxsutawney Phil birth year'}                            │\n",
       "╰─────────────────────────────────────────────────────────────────────────────────────────────────────────────────╯\n"
      ]
     },
     "metadata": {},
     "output_type": "display_data"
    },
    {
     "name": "stdout",
     "output_type": "stream",
     "text": [
      "Using Infinity Reranker\n"
     ]
    },
    {
     "data": {
      "text/html": [
       "<pre style=\"white-space:pre;overflow-x:auto;line-height:normal;font-family:Menlo,'DejaVu Sans Mono',consolas,'Courier New',monospace\">Observations: Okay, the user is asking for Punxsutawney Phil's birth year. Let me check the provided search \n",
       "results.\n",
       "\n",
       "First, the Wikipedia entry mentions the first Groundhog Day in Punxsutawney was February <span style=\"color: #008080; text-decoration-color: #008080; font-weight: bold\">2</span>, <span style=\"color: #008080; text-decoration-color: #008080; font-weight: bold\">1886</span>, and the first \n",
       "official trek was in <span style=\"color: #008080; text-decoration-color: #008080; font-weight: bold\">1887</span>. The NPR article from <span style=\"color: #008080; text-decoration-color: #008080; font-weight: bold\">2025</span> says Phil is <span style=\"color: #008000; text-decoration-color: #008000\">\"probably 139 years old\"</span> as of <span style=\"color: #008080; text-decoration-color: #008080; font-weight: bold\">2025</span>, which would \n",
       "suggest a birth year around <span style=\"color: #008080; text-decoration-color: #008080; font-weight: bold\">1886</span>. But groundhogs typically live up to <span style=\"color: #008080; text-decoration-color: #008080; font-weight: bold\">14</span> years in captivity, so they probably \n",
       "replace the groundhog but keep the same name. The CBS News article notes there have been several Phils, but the \n",
       "club doesn't disclose that. The Stormfax history says the official celebration started in <span style=\"color: #008080; text-decoration-color: #008080; font-weight: bold\">1886</span>. The Who2 bio \n",
       "doesn't mention birth year but highlights the annual event.\n",
       "\n",
       "Putting this together: The original Phil would have been around since <span style=\"color: #008080; text-decoration-color: #008080; font-weight: bold\">1886</span>, but since groundhogs don't live that \n",
       "long, there have been multiple Phils. The NPR article's <span style=\"color: #008080; text-decoration-color: #008080; font-weight: bold\">139</span> years <span style=\"font-weight: bold\">(</span>from <span style=\"color: #008080; text-decoration-color: #008080; font-weight: bold\">1886</span><span style=\"font-weight: bold\">)</span> is likely referring to the \n",
       "tradition's start, not the current groundhog's age. The user might be confused because the club claims the same \n",
       "Phil is used, but realistically, they've had many. The answer should state the first Phil was in <span style=\"color: #008080; text-decoration-color: #008080; font-weight: bold\">1886</span>, noting the \n",
       "tradition's start, and clarify that individual groundhogs are replaced but the name continues.\n",
       "<span style=\"font-weight: bold\">&lt;</span><span style=\"color: #800080; text-decoration-color: #800080\">/</span><span style=\"color: #ff00ff; text-decoration-color: #ff00ff\">think</span><span style=\"font-weight: bold\">&gt;</span>\n",
       "\n",
       "Punxsutawney Phil's <span style=\"color: #008000; text-decoration-color: #008000\">\"birth year\"</span> is tied to the tradition's origin in <span style=\"color: #008080; text-decoration-color: #008080; font-weight: bold\">1886</span>, as the first official Groundhog Day was\n",
       "celebrated in Punxsutawney, Pennsylvania, on February <span style=\"color: #008080; text-decoration-color: #008080; font-weight: bold\">2</span>, <span style=\"color: #008080; text-decoration-color: #008080; font-weight: bold\">1887</span> <span style=\"font-weight: bold\">(</span>per Wikipedia and Stormfax<span style=\"font-weight: bold\">)</span>. However, groundhogs \n",
       "typically live up to <span style=\"color: #008080; text-decoration-color: #008080; font-weight: bold\">14</span> years in captivity, meaning multiple Phils have been used over time. The Groundhog Club \n",
       "does not publicly disclose the number of Phils, maintaining the myth that the same Phil is used since <span style=\"color: #008080; text-decoration-color: #008080; font-weight: bold\">1886</span> <span style=\"font-weight: bold\">(</span>CBS \n",
       "News<span style=\"font-weight: bold\">)</span>. The current Phil is replaced periodically but retains the name and tradition.\n",
       "</pre>\n"
      ],
      "text/plain": [
       "Observations: Okay, the user is asking for Punxsutawney Phil's birth year. Let me check the provided search \n",
       "results.\n",
       "\n",
       "First, the Wikipedia entry mentions the first Groundhog Day in Punxsutawney was February \u001b[1;36m2\u001b[0m, \u001b[1;36m1886\u001b[0m, and the first \n",
       "official trek was in \u001b[1;36m1887\u001b[0m. The NPR article from \u001b[1;36m2025\u001b[0m says Phil is \u001b[32m\"probably 139 years old\"\u001b[0m as of \u001b[1;36m2025\u001b[0m, which would \n",
       "suggest a birth year around \u001b[1;36m1886\u001b[0m. But groundhogs typically live up to \u001b[1;36m14\u001b[0m years in captivity, so they probably \n",
       "replace the groundhog but keep the same name. The CBS News article notes there have been several Phils, but the \n",
       "club doesn't disclose that. The Stormfax history says the official celebration started in \u001b[1;36m1886\u001b[0m. The Who2 bio \n",
       "doesn't mention birth year but highlights the annual event.\n",
       "\n",
       "Putting this together: The original Phil would have been around since \u001b[1;36m1886\u001b[0m, but since groundhogs don't live that \n",
       "long, there have been multiple Phils. The NPR article's \u001b[1;36m139\u001b[0m years \u001b[1m(\u001b[0mfrom \u001b[1;36m1886\u001b[0m\u001b[1m)\u001b[0m is likely referring to the \n",
       "tradition's start, not the current groundhog's age. The user might be confused because the club claims the same \n",
       "Phil is used, but realistically, they've had many. The answer should state the first Phil was in \u001b[1;36m1886\u001b[0m, noting the \n",
       "tradition's start, and clarify that individual groundhogs are replaced but the name continues.\n",
       "\u001b[1m<\u001b[0m\u001b[35m/\u001b[0m\u001b[95mthink\u001b[0m\u001b[1m>\u001b[0m\n",
       "\n",
       "Punxsutawney Phil's \u001b[32m\"birth year\"\u001b[0m is tied to the tradition's origin in \u001b[1;36m1886\u001b[0m, as the first official Groundhog Day was\n",
       "celebrated in Punxsutawney, Pennsylvania, on February \u001b[1;36m2\u001b[0m, \u001b[1;36m1887\u001b[0m \u001b[1m(\u001b[0mper Wikipedia and Stormfax\u001b[1m)\u001b[0m. However, groundhogs \n",
       "typically live up to \u001b[1;36m14\u001b[0m years in captivity, meaning multiple Phils have been used over time. The Groundhog Club \n",
       "does not publicly disclose the number of Phils, maintaining the myth that the same Phil is used since \u001b[1;36m1886\u001b[0m \u001b[1m(\u001b[0mCBS \n",
       "News\u001b[1m)\u001b[0m. The current Phil is replaced periodically but retains the name and tradition.\n"
      ]
     },
     "metadata": {},
     "output_type": "display_data"
    },
    {
     "data": {
      "text/html": [
       "<pre style=\"white-space:pre;overflow-x:auto;line-height:normal;font-family:Menlo,'DejaVu Sans Mono',consolas,'Courier New',monospace\"><span style=\"color: #7f7f7f; text-decoration-color: #7f7f7f\">[Step 2: Duration 10.68 seconds| Input tokens: 8,413 | Output tokens: 55]</span>\n",
       "</pre>\n"
      ],
      "text/plain": [
       "\u001b[2m[Step 2: Duration 10.68 seconds| Input tokens: 8,413 | Output tokens: 55]\u001b[0m\n"
      ]
     },
     "metadata": {},
     "output_type": "display_data"
    },
    {
     "data": {
      "text/html": [
       "<pre style=\"white-space:pre;overflow-x:auto;line-height:normal;font-family:Menlo,'DejaVu Sans Mono',consolas,'Courier New',monospace\"><span style=\"color: #d4b702; text-decoration-color: #d4b702\">━━━━━━━━━━━━━━━━━━━━━━━━━━━━━━━━━━━━━━━━━━━━━━━━━━━━━ </span><span style=\"font-weight: bold\">Step </span><span style=\"color: #008080; text-decoration-color: #008080; font-weight: bold\">3</span><span style=\"color: #d4b702; text-decoration-color: #d4b702\"> ━━━━━━━━━━━━━━━━━━━━━━━━━━━━━━━━━━━━━━━━━━━━━━━━━━━━━━</span>\n",
       "</pre>\n"
      ],
      "text/plain": [
       "\u001b[38;2;212;183;2m━━━━━━━━━━━━━━━━━━━━━━━━━━━━━━━━━━━━━━━━━━━━━━━━━━━━━ \u001b[0m\u001b[1mStep \u001b[0m\u001b[1;36m3\u001b[0m\u001b[38;2;212;183;2m ━━━━━━━━━━━━━━━━━━━━━━━━━━━━━━━━━━━━━━━━━━━━━━━━━━━━━━\u001b[0m\n"
      ]
     },
     "metadata": {},
     "output_type": "display_data"
    },
    {
     "data": {
      "text/html": [
       "<pre style=\"white-space:pre;overflow-x:auto;line-height:normal;font-family:Menlo,'DejaVu Sans Mono',consolas,'Courier New',monospace\">╭─────────────────────────────────────────────────────────────────────────────────────────────────────────────────╮\n",
       "│ Calling tool: 'calculate' with arguments: {'query': '2024-1800'}                                                │\n",
       "╰─────────────────────────────────────────────────────────────────────────────────────────────────────────────────╯\n",
       "</pre>\n"
      ],
      "text/plain": [
       "╭─────────────────────────────────────────────────────────────────────────────────────────────────────────────────╮\n",
       "│ Calling tool: 'calculate' with arguments: {'query': '2024-1800'}                                                │\n",
       "╰─────────────────────────────────────────────────────────────────────────────────────────────────────────────────╯\n"
      ]
     },
     "metadata": {},
     "output_type": "display_data"
    },
    {
     "name": "stdout",
     "output_type": "stream",
     "text": [
      "QUERY: 2024-1800\n",
      "\n",
      "RESULT: 224\n"
     ]
    },
    {
     "data": {
      "text/html": [
       "<pre style=\"white-space:pre;overflow-x:auto;line-height:normal;font-family:Menlo,'DejaVu Sans Mono',consolas,'Courier New',monospace\">Observations: <span style=\"color: #008080; text-decoration-color: #008080; font-weight: bold\">224</span>\n",
       "</pre>\n"
      ],
      "text/plain": [
       "Observations: \u001b[1;36m224\u001b[0m\n"
      ]
     },
     "metadata": {},
     "output_type": "display_data"
    },
    {
     "data": {
      "text/html": [
       "<pre style=\"white-space:pre;overflow-x:auto;line-height:normal;font-family:Menlo,'DejaVu Sans Mono',consolas,'Courier New',monospace\"><span style=\"color: #7f7f7f; text-decoration-color: #7f7f7f\">[Step 3: Duration 2.00 seconds| Input tokens: 13,195 | Output tokens: 76]</span>\n",
       "</pre>\n"
      ],
      "text/plain": [
       "\u001b[2m[Step 3: Duration 2.00 seconds| Input tokens: 13,195 | Output tokens: 76]\u001b[0m\n"
      ]
     },
     "metadata": {},
     "output_type": "display_data"
    },
    {
     "data": {
      "text/html": [
       "<pre style=\"white-space:pre;overflow-x:auto;line-height:normal;font-family:Menlo,'DejaVu Sans Mono',consolas,'Courier New',monospace\"><span style=\"color: #d4b702; text-decoration-color: #d4b702\">━━━━━━━━━━━━━━━━━━━━━━━━━━━━━━━━━━━━━━━━━━━━━━━━━━━━━ </span><span style=\"font-weight: bold\">Step </span><span style=\"color: #008080; text-decoration-color: #008080; font-weight: bold\">4</span><span style=\"color: #d4b702; text-decoration-color: #d4b702\"> ━━━━━━━━━━━━━━━━━━━━━━━━━━━━━━━━━━━━━━━━━━━━━━━━━━━━━━</span>\n",
       "</pre>\n"
      ],
      "text/plain": [
       "\u001b[38;2;212;183;2m━━━━━━━━━━━━━━━━━━━━━━━━━━━━━━━━━━━━━━━━━━━━━━━━━━━━━ \u001b[0m\u001b[1mStep \u001b[0m\u001b[1;36m4\u001b[0m\u001b[38;2;212;183;2m ━━━━━━━━━━━━━━━━━━━━━━━━━━━━━━━━━━━━━━━━━━━━━━━━━━━━━━\u001b[0m\n"
      ]
     },
     "metadata": {},
     "output_type": "display_data"
    },
    {
     "data": {
      "text/html": [
       "<pre style=\"white-space:pre;overflow-x:auto;line-height:normal;font-family:Menlo,'DejaVu Sans Mono',consolas,'Courier New',monospace\">╭─────────────────────────────────────────────────────────────────────────────────────────────────────────────────╮\n",
       "│ Calling tool: 'final_answer' with arguments: {'answer': 'Punxsutawney Phil would have to be canonically alive   │\n",
       "│ 224 years earlier to have made a Groundhog Day prediction in the same state as the US capitol.'}                │\n",
       "╰─────────────────────────────────────────────────────────────────────────────────────────────────────────────────╯\n",
       "</pre>\n"
      ],
      "text/plain": [
       "╭─────────────────────────────────────────────────────────────────────────────────────────────────────────────────╮\n",
       "│ Calling tool: 'final_answer' with arguments: {'answer': 'Punxsutawney Phil would have to be canonically alive   │\n",
       "│ 224 years earlier to have made a Groundhog Day prediction in the same state as the US capitol.'}                │\n",
       "╰─────────────────────────────────────────────────────────────────────────────────────────────────────────────────╯\n"
      ]
     },
     "metadata": {},
     "output_type": "display_data"
    },
    {
     "data": {
      "text/html": [
       "<pre style=\"white-space:pre;overflow-x:auto;line-height:normal;font-family:Menlo,'DejaVu Sans Mono',consolas,'Courier New',monospace\"><span style=\"color: #d4b702; text-decoration-color: #d4b702; font-weight: bold\">Final answer: Punxsutawney Phil would have to be canonically alive 224 years earlier to have made a Groundhog Day </span>\n",
       "<span style=\"color: #d4b702; text-decoration-color: #d4b702; font-weight: bold\">prediction in the same state as the US capitol.</span>\n",
       "</pre>\n"
      ],
      "text/plain": [
       "\u001b[1;38;2;212;183;2mFinal answer: Punxsutawney Phil would have to be canonically alive 224 years earlier to have made a Groundhog Day \u001b[0m\n",
       "\u001b[1;38;2;212;183;2mprediction in the same state as the US capitol.\u001b[0m\n"
      ]
     },
     "metadata": {},
     "output_type": "display_data"
    },
    {
     "data": {
      "text/html": [
       "<pre style=\"white-space:pre;overflow-x:auto;line-height:normal;font-family:Menlo,'DejaVu Sans Mono',consolas,'Courier New',monospace\"><span style=\"color: #7f7f7f; text-decoration-color: #7f7f7f\">[Step 4: Duration 1.83 seconds| Input tokens: 18,071 | Output tokens: 129]</span>\n",
       "</pre>\n"
      ],
      "text/plain": [
       "\u001b[2m[Step 4: Duration 1.83 seconds| Input tokens: 18,071 | Output tokens: 129]\u001b[0m\n"
      ]
     },
     "metadata": {},
     "output_type": "display_data"
    },
    {
     "name": "stdout",
     "output_type": "stream",
     "text": [
      "Punxsutawney Phil would have to be canonically alive 224 years earlier to have made a Groundhog Day prediction in the same state as the US capitol.\n"
     ]
    }
   ],
   "source": [
    "from opendeepsearch import OpenDeepSearchTool\n",
    "from opendeepsearch.wolfram_tool import WolframAlphaTool\n",
    "from opendeepsearch.prompts import REACT_PROMPT\n",
    "from smolagents import LiteLLMModel, ToolCallingAgent, Tool\n",
    "import os\n",
    "\n",
    "# os.environ[\"LITELLM_MODEL_ID\"] = \"fireworks_ai/accounts/fireworks/models/llama-v3-70b-instruct\"\n",
    "# os.environ[\"LITELLM_SEARCH_MODEL_ID\"] = \"fireworks_ai/accounts/fireworks/models/llama-v3-70b-instruct\"\n",
    "# os.environ[\"LITELLM_ORCHESTRATOR_MODEL_ID\"] = \"fireworks_ai/accounts/fireworks/models/llama-v3-70b-instruct\"\n",
    "# os.environ[\"LITELLM_EVAL_MODEL_ID\"] = \"fireworks_ai/accounts/fireworks/models/llama-v3-70b-instruct\"\n",
    "\n",
    "os.environ[\"SERPER_API_KEY\"] = \"e638d76ed48e55d1a0f52634096d1e2bbfcba6c2\"  # If using Serper\n",
    "# Or for SearXNG\n",
    "# os.environ[\"SEARXNG_INSTANCE_URL\"] = \"https://your-searxng-instance.com\"\n",
    "# os.environ[\"SEARXNG_API_KEY\"] = \"your-api-key-here\"  # Optional\n",
    "\n",
    "\n",
    "os.environ[\"FIREWORKS_API_KEY\"] = \"fw_3ZWPyAMiMEbfV8vorFT2gpcV\"\n",
    "os.environ[\"JINA_API_KEY\"] = \"jina_079d614692a44bba9963e5dc206775498EU9alaQ9XNsmPn0_1mr9kAL26MJ\"\n",
    "\n",
    "\n",
    "os.environ[\"WOLFRAM_ALPHA_APP_ID\"] = \"Q6Y5YV-8TGGQ6TGKG\"\n",
    "\n",
    "# model_name = \"fireworks_ai/accounts/sentientfoundation/models/dobby-unhinged-llama-3-3-70b-new\"\n",
    "\n",
    "model_lite_llm = \"fireworks_ai/accounts/fireworks/models/llama-v3p3-70b-instruct\"\n",
    "model_ods = \"fireworks_ai/accounts/fireworks/models/qwq-32b\"\n",
    "# model_name = \"fireworks_ai/accounts/fireworks/models/deepseek-r1\"\n",
    "# model_name = \"fireworks_ai/accounts/fireworks/models/phi-3-vision-128k-instruct\"\n",
    "# model_name2 = \"fireworks_ai/accounts/fireworks/models/dolphin-2-9-2-qwen2-72b\"\n",
    "# model_name2 = \"fireworks_ai/accounts/fireworks/models/dolphin-2-9-2-qwen2-72b\"\n",
    "\n",
    "\n",
    "model = LiteLLMModel(\n",
    "    model_id=model_lite_llm,\n",
    "    temperature=0.2,\n",
    "    max_completion_tokens=8192,\n",
    ")\n",
    "search_agent = OpenDeepSearchTool(model_name=model_ods, reranker=\"infinity\") # Set reranker to \"jina\" or \"infinity\"\n",
    "\n",
    "# Initialize the Wolfram Alpha tool\n",
    "wolfram_tool = WolframAlphaTool(app_id=os.environ[\"WOLFRAM_ALPHA_APP_ID\"])\n",
    "\n",
    "# Initialize the React Agent with search and wolfram tools\n",
    "react_agent = ToolCallingAgent(\n",
    "    # tools=[search_agent],\n",
    "    tools=[search_agent, wolfram_tool],\n",
    "    model=model,\n",
    "    prompt_templates=REACT_PROMPT # Using REACT_PROMPT as system prompt\n",
    ")\n",
    "\n",
    "# Example query for the React Agent\n",
    "query = \"How many years earlier would Punxsutawney Phil have to be canonically alive to have made a Groundhog Day prediction in the same state as the US capitol?\"\n",
    "# query = \"What is the square root of the age of the wife of the second president of the United States at her death?\"\n",
    "# query = \"As of August 1, 2024, who is the president of the team that inspired the original name of the Washington Commanders?\"\n",
    "result = react_agent.run(query)\n",
    "\n",
    "print(result)"
   ]
  },
  {
   "cell_type": "code",
   "execution_count": 15,
   "metadata": {},
   "outputs": [
    {
     "name": "stdout",
     "output_type": "stream",
     "text": [
      "ModelResponse(id='b41784b1-5dd9-4efd-8ed3-b020e14a8f0b', created=1743859966, model='fireworks_ai/accounts/fireworks/models/phi-3-vision-128k-instruct', object='chat.completion', system_fingerprint=None, choices=[Choices(finish_reason='stop', index=0, message=Message(content=' Hello! Welcome to Lite.com! How can I help you today?', role='assistant', tool_calls=None, function_call=None, provider_specific_fields={'refusal': None}))], usage=Usage(completion_tokens=17, prompt_tokens=13, total_tokens=30, completion_tokens_details=None, prompt_tokens_details=None), service_tier=None)\n"
     ]
    }
   ],
   "source": [
    "from litellm import completion\n",
    "import os\n",
    "os.environ[\"FIREWORKS_API_KEY\"] = \"fw_3ZWPyAMiMEbfV8vorFT2gpcV\"\n",
    "\n",
    "response = completion(\n",
    "    model=\"fireworks_ai/accounts/fireworks/models/phi-3-vision-128k-instruct\", \n",
    "    messages=[\n",
    "       {\"role\": \"user\", \"content\": \"hello from litellm\"}\n",
    "   ],\n",
    ")\n",
    "print(response)"
   ]
  },
  {
   "cell_type": "code",
   "execution_count": null,
   "metadata": {},
   "outputs": [],
   "source": []
  }
 ],
 "metadata": {
  "kernelspec": {
   "display_name": "datathon2025",
   "language": "python",
   "name": "python3"
  },
  "language_info": {
   "codemirror_mode": {
    "name": "ipython",
    "version": 3
   },
   "file_extension": ".py",
   "mimetype": "text/x-python",
   "name": "python",
   "nbconvert_exporter": "python",
   "pygments_lexer": "ipython3",
   "version": "3.10.16"
  }
 },
 "nbformat": 4,
 "nbformat_minor": 2
}
