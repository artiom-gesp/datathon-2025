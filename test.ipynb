{
 "cells": [
  {
   "cell_type": "code",
   "execution_count": 2,
   "metadata": {},
   "outputs": [],
   "source": [
    "a=1"
   ]
  },
  {
   "cell_type": "code",
   "execution_count": null,
   "metadata": {},
   "outputs": [
    {
     "data": {
      "text/html": [
       "<pre style=\"white-space:pre;overflow-x:auto;line-height:normal;font-family:Menlo,'DejaVu Sans Mono',consolas,'Courier New',monospace\"><span style=\"color: #d4b702; text-decoration-color: #d4b702\">╭──────────────────────────────────────────────────── </span><span style=\"color: #d4b702; text-decoration-color: #d4b702; font-weight: bold\">New run</span><span style=\"color: #d4b702; text-decoration-color: #d4b702\"> ────────────────────────────────────────────────────╮</span>\n",
       "<span style=\"color: #d4b702; text-decoration-color: #d4b702\">│</span>                                                                                                                 <span style=\"color: #d4b702; text-decoration-color: #d4b702\">│</span>\n",
       "<span style=\"color: #d4b702; text-decoration-color: #d4b702\">│</span> <span style=\"font-weight: bold\">How many years earlier would Punxsutawney Phil have to be canonically alive to have made a Groundhog Day </span>       <span style=\"color: #d4b702; text-decoration-color: #d4b702\">│</span>\n",
       "<span style=\"color: #d4b702; text-decoration-color: #d4b702\">│</span> <span style=\"font-weight: bold\">prediction in the same state as the US capitol?</span>                                                                 <span style=\"color: #d4b702; text-decoration-color: #d4b702\">│</span>\n",
       "<span style=\"color: #d4b702; text-decoration-color: #d4b702\">│</span>                                                                                                                 <span style=\"color: #d4b702; text-decoration-color: #d4b702\">│</span>\n",
       "<span style=\"color: #d4b702; text-decoration-color: #d4b702\">╰─ LiteLLMModel - fireworks_ai/accounts/fireworks/models/llama-v3p3-70b-instruct ─────────────────────────────────╯</span>\n",
       "</pre>\n"
      ],
      "text/plain": [
       "\u001b[38;2;212;183;2m╭─\u001b[0m\u001b[38;2;212;183;2m───────────────────────────────────────────────────\u001b[0m\u001b[38;2;212;183;2m \u001b[0m\u001b[1;38;2;212;183;2mNew run\u001b[0m\u001b[38;2;212;183;2m \u001b[0m\u001b[38;2;212;183;2m───────────────────────────────────────────────────\u001b[0m\u001b[38;2;212;183;2m─╮\u001b[0m\n",
       "\u001b[38;2;212;183;2m│\u001b[0m                                                                                                                 \u001b[38;2;212;183;2m│\u001b[0m\n",
       "\u001b[38;2;212;183;2m│\u001b[0m \u001b[1mHow many years earlier would Punxsutawney Phil have to be canonically alive to have made a Groundhog Day \u001b[0m       \u001b[38;2;212;183;2m│\u001b[0m\n",
       "\u001b[38;2;212;183;2m│\u001b[0m \u001b[1mprediction in the same state as the US capitol?\u001b[0m                                                                 \u001b[38;2;212;183;2m│\u001b[0m\n",
       "\u001b[38;2;212;183;2m│\u001b[0m                                                                                                                 \u001b[38;2;212;183;2m│\u001b[0m\n",
       "\u001b[38;2;212;183;2m╰─\u001b[0m\u001b[38;2;212;183;2m LiteLLMModel - fireworks_ai/accounts/fireworks/models/llama-v3p3-70b-instruct \u001b[0m\u001b[38;2;212;183;2m────────────────────────────────\u001b[0m\u001b[38;2;212;183;2m─╯\u001b[0m\n"
      ]
     },
     "metadata": {},
     "output_type": "display_data"
    },
    {
     "data": {
      "text/html": [
       "<pre style=\"white-space:pre;overflow-x:auto;line-height:normal;font-family:Menlo,'DejaVu Sans Mono',consolas,'Courier New',monospace\"><span style=\"color: #d4b702; text-decoration-color: #d4b702\">━━━━━━━━━━━━━━━━━━━━━━━━━━━━━━━━━━━━━━━━━━━━━━━━━━━━━ </span><span style=\"font-weight: bold\">Step </span><span style=\"color: #008080; text-decoration-color: #008080; font-weight: bold\">1</span><span style=\"color: #d4b702; text-decoration-color: #d4b702\"> ━━━━━━━━━━━━━━━━━━━━━━━━━━━━━━━━━━━━━━━━━━━━━━━━━━━━━━</span>\n",
       "</pre>\n"
      ],
      "text/plain": [
       "\u001b[38;2;212;183;2m━━━━━━━━━━━━━━━━━━━━━━━━━━━━━━━━━━━━━━━━━━━━━━━━━━━━━ \u001b[0m\u001b[1mStep \u001b[0m\u001b[1;36m1\u001b[0m\u001b[38;2;212;183;2m ━━━━━━━━━━━━━━━━━━━━━━━━━━━━━━━━━━━━━━━━━━━━━━━━━━━━━━\u001b[0m\n"
      ]
     },
     "metadata": {},
     "output_type": "display_data"
    },
    {
     "data": {
      "text/html": [
       "<pre style=\"white-space:pre;overflow-x:auto;line-height:normal;font-family:Menlo,'DejaVu Sans Mono',consolas,'Courier New',monospace\">╭─────────────────────────────────────────────────────────────────────────────────────────────────────────────────╮\n",
       "│ Calling tool: 'calculate' with arguments: {'query': 'Punxsutawney Phil birth year - 1800'}                      │\n",
       "╰─────────────────────────────────────────────────────────────────────────────────────────────────────────────────╯\n",
       "</pre>\n"
      ],
      "text/plain": [
       "╭─────────────────────────────────────────────────────────────────────────────────────────────────────────────────╮\n",
       "│ Calling tool: 'calculate' with arguments: {'query': 'Punxsutawney Phil birth year - 1800'}                      │\n",
       "╰─────────────────────────────────────────────────────────────────────────────────────────────────────────────────╯\n"
      ]
     },
     "metadata": {},
     "output_type": "display_data"
    },
    {
     "name": "stdout",
     "output_type": "stream",
     "text": [
      "QUERY: Punxsutawney Phil birth year - 1800\n",
      "\n",
      "RESULT: (data not available)\n"
     ]
    },
    {
     "data": {
      "text/html": [
       "<pre style=\"white-space:pre;overflow-x:auto;line-height:normal;font-family:Menlo,'DejaVu Sans Mono',consolas,'Courier New',monospace\">Observations: <span style=\"font-weight: bold\">(</span>data not available<span style=\"font-weight: bold\">)</span>\n",
       "</pre>\n"
      ],
      "text/plain": [
       "Observations: \u001b[1m(\u001b[0mdata not available\u001b[1m)\u001b[0m\n"
      ]
     },
     "metadata": {},
     "output_type": "display_data"
    },
    {
     "data": {
      "text/html": [
       "<pre style=\"white-space:pre;overflow-x:auto;line-height:normal;font-family:Menlo,'DejaVu Sans Mono',consolas,'Courier New',monospace\"><span style=\"color: #7f7f7f; text-decoration-color: #7f7f7f\">[Step 1: Duration 4.23 seconds| Input tokens: 4,154 | Output tokens: 29]</span>\n",
       "</pre>\n"
      ],
      "text/plain": [
       "\u001b[2m[Step 1: Duration 4.23 seconds| Input tokens: 4,154 | Output tokens: 29]\u001b[0m\n"
      ]
     },
     "metadata": {},
     "output_type": "display_data"
    },
    {
     "data": {
      "text/html": [
       "<pre style=\"white-space:pre;overflow-x:auto;line-height:normal;font-family:Menlo,'DejaVu Sans Mono',consolas,'Courier New',monospace\"><span style=\"color: #d4b702; text-decoration-color: #d4b702\">━━━━━━━━━━━━━━━━━━━━━━━━━━━━━━━━━━━━━━━━━━━━━━━━━━━━━ </span><span style=\"font-weight: bold\">Step </span><span style=\"color: #008080; text-decoration-color: #008080; font-weight: bold\">2</span><span style=\"color: #d4b702; text-decoration-color: #d4b702\"> ━━━━━━━━━━━━━━━━━━━━━━━━━━━━━━━━━━━━━━━━━━━━━━━━━━━━━━</span>\n",
       "</pre>\n"
      ],
      "text/plain": [
       "\u001b[38;2;212;183;2m━━━━━━━━━━━━━━━━━━━━━━━━━━━━━━━━━━━━━━━━━━━━━━━━━━━━━ \u001b[0m\u001b[1mStep \u001b[0m\u001b[1;36m2\u001b[0m\u001b[38;2;212;183;2m ━━━━━━━━━━━━━━━━━━━━━━━━━━━━━━━━━━━━━━━━━━━━━━━━━━━━━━\u001b[0m\n"
      ]
     },
     "metadata": {},
     "output_type": "display_data"
    },
    {
     "data": {
      "text/html": [
       "<pre style=\"white-space:pre;overflow-x:auto;line-height:normal;font-family:Menlo,'DejaVu Sans Mono',consolas,'Courier New',monospace\">╭─────────────────────────────────────────────────────────────────────────────────────────────────────────────────╮\n",
       "│ Calling tool: 'web_search' with arguments: {'query': 'Punxsutawney Phil birth year'}                            │\n",
       "╰─────────────────────────────────────────────────────────────────────────────────────────────────────────────────╯\n",
       "</pre>\n"
      ],
      "text/plain": [
       "╭─────────────────────────────────────────────────────────────────────────────────────────────────────────────────╮\n",
       "│ Calling tool: 'web_search' with arguments: {'query': 'Punxsutawney Phil birth year'}                            │\n",
       "╰─────────────────────────────────────────────────────────────────────────────────────────────────────────────────╯\n"
      ]
     },
     "metadata": {},
     "output_type": "display_data"
    },
    {
     "name": "stdout",
     "output_type": "stream",
     "text": [
      "Using Jina Reranker\n"
     ]
    },
    {
     "data": {
      "text/html": [
       "<pre style=\"white-space:pre;overflow-x:auto;line-height:normal;font-family:Menlo,'DejaVu Sans Mono',consolas,'Courier New',monospace\">Observations: Okay, the user is asking for Punxsutawney Phil's birth year. Let me check the provided search \n",
       "results.\n",
       "\n",
       "First, the Wikipedia entry mentions that the first Groundhog Day was in <span style=\"color: #008080; text-decoration-color: #008080; font-weight: bold\">1887</span>. The NPR article from <span style=\"color: #008080; text-decoration-color: #008080; font-weight: bold\">2025</span> says, <span style=\"color: #008000; text-decoration-color: #008000\">\"Our </span>\n",
       "<span style=\"color: #008000; text-decoration-color: #008000\">Phil is like, probably 139 years old.\"</span> If <span style=\"color: #008080; text-decoration-color: #008080; font-weight: bold\">2025</span> minus <span style=\"color: #008080; text-decoration-color: #008080; font-weight: bold\">139</span> years would put the birth around <span style=\"color: #008080; text-decoration-color: #008080; font-weight: bold\">1886</span>. But groundhogs in \n",
       "captivity usually live up to <span style=\"color: #008080; text-decoration-color: #008080; font-weight: bold\">14</span> years, so they probably replace the groundhog each time but keep the same name. \n",
       "\n",
       "The CBS News article from February <span style=\"color: #008080; text-decoration-color: #008080; font-weight: bold\">2</span>, <span style=\"color: #008080; text-decoration-color: #008080; font-weight: bold\">2025</span>, states there have been several Phils since <span style=\"color: #008080; text-decoration-color: #008080; font-weight: bold\">1886</span>, but the club doesn't \n",
       "disclose that info. So each Phil has a different birth year, but the tradition started in <span style=\"color: #008080; text-decoration-color: #008080; font-weight: bold\">1887</span>. The question is \n",
       "about the birth year of Punxsutawney Phil. Since the club doesn't reveal individual Phils' details, the answer \n",
       "would be that the original Phil started in <span style=\"color: #008080; text-decoration-color: #008080; font-weight: bold\">1887</span>, and they don't disclose individual birth years because they \n",
       "replace the groundhog each time. The NPR article mentions the tradition is <span style=\"color: #008080; text-decoration-color: #008080; font-weight: bold\">139</span> years old in <span style=\"color: #008080; text-decoration-color: #008080; font-weight: bold\">2025</span>, so the first was \n",
       "<span style=\"color: #008080; text-decoration-color: #008080; font-weight: bold\">1886</span> or <span style=\"color: #008080; text-decoration-color: #008080; font-weight: bold\">1887</span>. The exact birth year of the current Phil isn't given, but the tradition began then. So the answer \n",
       "should state that the first Phil was in <span style=\"color: #008080; text-decoration-color: #008080; font-weight: bold\">1887</span>, and they don't reveal individual birth years as they have multiple \n",
       "Phils over time.\n",
       "<span style=\"font-weight: bold\">&lt;</span><span style=\"color: #800080; text-decoration-color: #800080\">/</span><span style=\"color: #ff00ff; text-decoration-color: #ff00ff\">think</span><span style=\"font-weight: bold\">&gt;</span>\n",
       "\n",
       "Punxsutawney Phil's birth year is not publicly disclosed, as the Groundhog Club does not reveal the ages of \n",
       "individual groundhogs. The tradition began in <span style=\"color: #008080; text-decoration-color: #008080; font-weight: bold\">1887</span>, and multiple groundhogs named Punxsutawney Phil have been used \n",
       "over the years, each serving as the ceremonial animal. The club maintains the myth that the same Phil has been used\n",
       "since <span style=\"color: #008080; text-decoration-color: #008080; font-weight: bold\">1886</span>, though groundhogs typically live up to <span style=\"color: #008080; text-decoration-color: #008080; font-weight: bold\">14</span> years in captivity. <span style=\"font-weight: bold\">(</span>Source: NPR, CBS News<span style=\"font-weight: bold\">)</span>\n",
       "</pre>\n"
      ],
      "text/plain": [
       "Observations: Okay, the user is asking for Punxsutawney Phil's birth year. Let me check the provided search \n",
       "results.\n",
       "\n",
       "First, the Wikipedia entry mentions that the first Groundhog Day was in \u001b[1;36m1887\u001b[0m. The NPR article from \u001b[1;36m2025\u001b[0m says, \u001b[32m\"Our \u001b[0m\n",
       "\u001b[32mPhil is like, probably 139 years old.\"\u001b[0m If \u001b[1;36m2025\u001b[0m minus \u001b[1;36m139\u001b[0m years would put the birth around \u001b[1;36m1886\u001b[0m. But groundhogs in \n",
       "captivity usually live up to \u001b[1;36m14\u001b[0m years, so they probably replace the groundhog each time but keep the same name. \n",
       "\n",
       "The CBS News article from February \u001b[1;36m2\u001b[0m, \u001b[1;36m2025\u001b[0m, states there have been several Phils since \u001b[1;36m1886\u001b[0m, but the club doesn't \n",
       "disclose that info. So each Phil has a different birth year, but the tradition started in \u001b[1;36m1887\u001b[0m. The question is \n",
       "about the birth year of Punxsutawney Phil. Since the club doesn't reveal individual Phils' details, the answer \n",
       "would be that the original Phil started in \u001b[1;36m1887\u001b[0m, and they don't disclose individual birth years because they \n",
       "replace the groundhog each time. The NPR article mentions the tradition is \u001b[1;36m139\u001b[0m years old in \u001b[1;36m2025\u001b[0m, so the first was \n",
       "\u001b[1;36m1886\u001b[0m or \u001b[1;36m1887\u001b[0m. The exact birth year of the current Phil isn't given, but the tradition began then. So the answer \n",
       "should state that the first Phil was in \u001b[1;36m1887\u001b[0m, and they don't reveal individual birth years as they have multiple \n",
       "Phils over time.\n",
       "\u001b[1m<\u001b[0m\u001b[35m/\u001b[0m\u001b[95mthink\u001b[0m\u001b[1m>\u001b[0m\n",
       "\n",
       "Punxsutawney Phil's birth year is not publicly disclosed, as the Groundhog Club does not reveal the ages of \n",
       "individual groundhogs. The tradition began in \u001b[1;36m1887\u001b[0m, and multiple groundhogs named Punxsutawney Phil have been used \n",
       "over the years, each serving as the ceremonial animal. The club maintains the myth that the same Phil has been used\n",
       "since \u001b[1;36m1886\u001b[0m, though groundhogs typically live up to \u001b[1;36m14\u001b[0m years in captivity. \u001b[1m(\u001b[0mSource: NPR, CBS News\u001b[1m)\u001b[0m\n"
      ]
     },
     "metadata": {},
     "output_type": "display_data"
    },
    {
     "data": {
      "text/html": [
       "<pre style=\"white-space:pre;overflow-x:auto;line-height:normal;font-family:Menlo,'DejaVu Sans Mono',consolas,'Courier New',monospace\"><span style=\"color: #7f7f7f; text-decoration-color: #7f7f7f\">[Step 2: Duration 11.37 seconds| Input tokens: 8,413 | Output tokens: 55]</span>\n",
       "</pre>\n"
      ],
      "text/plain": [
       "\u001b[2m[Step 2: Duration 11.37 seconds| Input tokens: 8,413 | Output tokens: 55]\u001b[0m\n"
      ]
     },
     "metadata": {},
     "output_type": "display_data"
    },
    {
     "data": {
      "text/html": [
       "<pre style=\"white-space:pre;overflow-x:auto;line-height:normal;font-family:Menlo,'DejaVu Sans Mono',consolas,'Courier New',monospace\"><span style=\"color: #d4b702; text-decoration-color: #d4b702\">━━━━━━━━━━━━━━━━━━━━━━━━━━━━━━━━━━━━━━━━━━━━━━━━━━━━━ </span><span style=\"font-weight: bold\">Step </span><span style=\"color: #008080; text-decoration-color: #008080; font-weight: bold\">3</span><span style=\"color: #d4b702; text-decoration-color: #d4b702\"> ━━━━━━━━━━━━━━━━━━━━━━━━━━━━━━━━━━━━━━━━━━━━━━━━━━━━━━</span>\n",
       "</pre>\n"
      ],
      "text/plain": [
       "\u001b[38;2;212;183;2m━━━━━━━━━━━━━━━━━━━━━━━━━━━━━━━━━━━━━━━━━━━━━━━━━━━━━ \u001b[0m\u001b[1mStep \u001b[0m\u001b[1;36m3\u001b[0m\u001b[38;2;212;183;2m ━━━━━━━━━━━━━━━━━━━━━━━━━━━━━━━━━━━━━━━━━━━━━━━━━━━━━━\u001b[0m\n"
      ]
     },
     "metadata": {},
     "output_type": "display_data"
    },
    {
     "data": {
      "text/html": [
       "<pre style=\"white-space:pre;overflow-x:auto;line-height:normal;font-family:Menlo,'DejaVu Sans Mono',consolas,'Courier New',monospace\">╭─────────────────────────────────────────────────────────────────────────────────────────────────────────────────╮\n",
       "│ Calling tool: 'calculate' with arguments: {'query': '1887 - 1800'}                                              │\n",
       "╰─────────────────────────────────────────────────────────────────────────────────────────────────────────────────╯\n",
       "</pre>\n"
      ],
      "text/plain": [
       "╭─────────────────────────────────────────────────────────────────────────────────────────────────────────────────╮\n",
       "│ Calling tool: 'calculate' with arguments: {'query': '1887 - 1800'}                                              │\n",
       "╰─────────────────────────────────────────────────────────────────────────────────────────────────────────────────╯\n"
      ]
     },
     "metadata": {},
     "output_type": "display_data"
    },
    {
     "name": "stdout",
     "output_type": "stream",
     "text": [
      "QUERY: 1887 - 1800\n",
      "\n",
      "RESULT: 87\n"
     ]
    },
    {
     "data": {
      "text/html": [
       "<pre style=\"white-space:pre;overflow-x:auto;line-height:normal;font-family:Menlo,'DejaVu Sans Mono',consolas,'Courier New',monospace\">Observations: <span style=\"color: #008080; text-decoration-color: #008080; font-weight: bold\">87</span>\n",
       "</pre>\n"
      ],
      "text/plain": [
       "Observations: \u001b[1;36m87\u001b[0m\n"
      ]
     },
     "metadata": {},
     "output_type": "display_data"
    },
    {
     "data": {
      "text/html": [
       "<pre style=\"white-space:pre;overflow-x:auto;line-height:normal;font-family:Menlo,'DejaVu Sans Mono',consolas,'Courier New',monospace\"><span style=\"color: #7f7f7f; text-decoration-color: #7f7f7f\">[Step 3: Duration 2.03 seconds| Input tokens: 13,174 | Output tokens: 77]</span>\n",
       "</pre>\n"
      ],
      "text/plain": [
       "\u001b[2m[Step 3: Duration 2.03 seconds| Input tokens: 13,174 | Output tokens: 77]\u001b[0m\n"
      ]
     },
     "metadata": {},
     "output_type": "display_data"
    },
    {
     "data": {
      "text/html": [
       "<pre style=\"white-space:pre;overflow-x:auto;line-height:normal;font-family:Menlo,'DejaVu Sans Mono',consolas,'Courier New',monospace\"><span style=\"color: #d4b702; text-decoration-color: #d4b702\">━━━━━━━━━━━━━━━━━━━━━━━━━━━━━━━━━━━━━━━━━━━━━━━━━━━━━ </span><span style=\"font-weight: bold\">Step </span><span style=\"color: #008080; text-decoration-color: #008080; font-weight: bold\">4</span><span style=\"color: #d4b702; text-decoration-color: #d4b702\"> ━━━━━━━━━━━━━━━━━━━━━━━━━━━━━━━━━━━━━━━━━━━━━━━━━━━━━━</span>\n",
       "</pre>\n"
      ],
      "text/plain": [
       "\u001b[38;2;212;183;2m━━━━━━━━━━━━━━━━━━━━━━━━━━━━━━━━━━━━━━━━━━━━━━━━━━━━━ \u001b[0m\u001b[1mStep \u001b[0m\u001b[1;36m4\u001b[0m\u001b[38;2;212;183;2m ━━━━━━━━━━━━━━━━━━━━━━━━━━━━━━━━━━━━━━━━━━━━━━━━━━━━━━\u001b[0m\n"
      ]
     },
     "metadata": {},
     "output_type": "display_data"
    },
    {
     "data": {
      "text/html": [
       "<pre style=\"white-space:pre;overflow-x:auto;line-height:normal;font-family:Menlo,'DejaVu Sans Mono',consolas,'Courier New',monospace\">╭─────────────────────────────────────────────────────────────────────────────────────────────────────────────────╮\n",
       "│ Calling tool: 'final_answer' with arguments: {'answer': '87'}                                                   │\n",
       "╰─────────────────────────────────────────────────────────────────────────────────────────────────────────────────╯\n",
       "</pre>\n"
      ],
      "text/plain": [
       "╭─────────────────────────────────────────────────────────────────────────────────────────────────────────────────╮\n",
       "│ Calling tool: 'final_answer' with arguments: {'answer': '87'}                                                   │\n",
       "╰─────────────────────────────────────────────────────────────────────────────────────────────────────────────────╯\n"
      ]
     },
     "metadata": {},
     "output_type": "display_data"
    },
    {
     "data": {
      "text/html": [
       "<pre style=\"white-space:pre;overflow-x:auto;line-height:normal;font-family:Menlo,'DejaVu Sans Mono',consolas,'Courier New',monospace\"><span style=\"color: #d4b702; text-decoration-color: #d4b702; font-weight: bold\">Final answer: 87</span>\n",
       "</pre>\n"
      ],
      "text/plain": [
       "\u001b[1;38;2;212;183;2mFinal answer: 87\u001b[0m\n"
      ]
     },
     "metadata": {},
     "output_type": "display_data"
    },
    {
     "data": {
      "text/html": [
       "<pre style=\"white-space:pre;overflow-x:auto;line-height:normal;font-family:Menlo,'DejaVu Sans Mono',consolas,'Courier New',monospace\"><span style=\"color: #7f7f7f; text-decoration-color: #7f7f7f\">[Step 4: Duration 1.00 seconds| Input tokens: 18,026 | Output tokens: 95]</span>\n",
       "</pre>\n"
      ],
      "text/plain": [
       "\u001b[2m[Step 4: Duration 1.00 seconds| Input tokens: 18,026 | Output tokens: 95]\u001b[0m\n"
      ]
     },
     "metadata": {},
     "output_type": "display_data"
    },
    {
     "name": "stdout",
     "output_type": "stream",
     "text": [
      "87\n"
     ]
    }
   ],
   "source": [
    "from opendeepsearch import OpenDeepSearchTool\n",
    "from opendeepsearch.wolfram_tool import WolframAlphaTool\n",
    "from opendeepsearch.prompts import REACT_PROMPT\n",
    "from smolagents import LiteLLMModel, ToolCallingAgent, Tool\n",
    "import os\n",
    "\n",
    "# os.environ[\"LITELLM_MODEL_ID\"] = \"fireworks_ai/accounts/fireworks/models/llama-v3-70b-instruct\"\n",
    "# os.environ[\"LITELLM_SEARCH_MODEL_ID\"] = \"fireworks_ai/accounts/fireworks/models/llama-v3-70b-instruct\"\n",
    "# os.environ[\"LITELLM_ORCHESTRATOR_MODEL_ID\"] = \"fireworks_ai/accounts/fireworks/models/llama-v3-70b-instruct\"\n",
    "# os.environ[\"LITELLM_EVAL_MODEL_ID\"] = \"fireworks_ai/accounts/fireworks/models/llama-v3-70b-instruct\"\n",
    "\n",
    "os.environ[\"SERPER_API_KEY\"] = \"e638d76ed48e55d1a0f52634096d1e2bbfcba6c2\"  # If using Serper\n",
    "# Or for SearXNG\n",
    "# os.environ[\"SEARXNG_INSTANCE_URL\"] = \"https://your-searxng-instance.com\"\n",
    "# os.environ[\"SEARXNG_API_KEY\"] = \"your-api-key-here\"  # Optional\n",
    "\n",
    "\n",
    "os.environ[\"FIREWORKS_API_KEY\"] = \"fw_3ZWPyAMiMEbfV8vorFT2gpcV\"\n",
    "os.environ[\"JINA_API_KEY\"] = \"no\"\n",
    "\n",
    "\n",
    "os.environ[\"WOLFRAM_ALPHA_APP_ID\"] = \"Q6Y5YV-8TGGQ6TGKG\"\n",
    "\n",
    "# model_name = \"fireworks_ai/accounts/sentientfoundation/models/dobby-unhinged-llama-3-3-70b-new\"\n",
    "\n",
    "model_lite_llm = \"fireworks_ai/accounts/fireworks/models/llama-v3p3-70b-instruct\"\n",
    "model_ods = \"fireworks_ai/accounts/fireworks/models/qwq-32b\"\n",
    "# model_name = \"fireworks_ai/accounts/fireworks/models/deepseek-r1\"\n",
    "# model_name = \"fireworks_ai/accounts/fireworks/models/phi-3-vision-128k-instruct\"\n",
    "# model_name2 = \"fireworks_ai/accounts/fireworks/models/dolphin-2-9-2-qwen2-72b\"\n",
    "# model_name2 = \"fireworks_ai/accounts/fireworks/models/dolphin-2-9-2-qwen2-72b\"\n",
    "\n",
    "\n",
    "model = LiteLLMModel(\n",
    "    model_id=model_lite_llm,\n",
    "    temperature=0.2,\n",
    "    max_completion_tokens=8192,\n",
    ")\n",
    "search_agent = OpenDeepSearchTool(model_name=model_ods, reranker=\"jina\") # Set reranker to \"jina\" or \"infinity\"\n",
    "\n",
    "# Initialize the Wolfram Alpha tool\n",
    "wolfram_tool = WolframAlphaTool(app_id=os.environ[\"WOLFRAM_ALPHA_APP_ID\"])\n",
    "\n",
    "# Initialize the React Agent with search and wolfram tools\n",
    "react_agent = ToolCallingAgent(\n",
    "    # tools=[search_agent],\n",
    "    tools=[search_agent, wolfram_tool],\n",
    "    model=model,\n",
    "    prompt_templates=REACT_PROMPT # Using REACT_PROMPT as system prompt\n",
    ")\n",
    "\n",
    "# Example query for the React Agent\n",
    "query = \"How many years earlier would Punxsutawney Phil have to be canonically alive to have made a Groundhog Day prediction in the same state as the US capitol?\"\n",
    "# query = \"What is the square root of the age of the wife of the second president of the United States at her death?\"\n",
    "# query = \"As of August 1, 2024, who is the president of the team that inspired the original name of the Washington Commanders?\"\n",
    "result = react_agent.run(query)\n",
    "\n",
    "print(result)"
   ]
  },
  {
   "cell_type": "code",
   "execution_count": 15,
   "metadata": {},
   "outputs": [
    {
     "name": "stdout",
     "output_type": "stream",
     "text": [
      "ModelResponse(id='b41784b1-5dd9-4efd-8ed3-b020e14a8f0b', created=1743859966, model='fireworks_ai/accounts/fireworks/models/phi-3-vision-128k-instruct', object='chat.completion', system_fingerprint=None, choices=[Choices(finish_reason='stop', index=0, message=Message(content=' Hello! Welcome to Lite.com! How can I help you today?', role='assistant', tool_calls=None, function_call=None, provider_specific_fields={'refusal': None}))], usage=Usage(completion_tokens=17, prompt_tokens=13, total_tokens=30, completion_tokens_details=None, prompt_tokens_details=None), service_tier=None)\n"
     ]
    }
   ],
   "source": [
    "from litellm import completion\n",
    "import os\n",
    "os.environ[\"FIREWORKS_API_KEY\"] = \"fw_3ZWPyAMiMEbfV8vorFT2gpcV\"\n",
    "\n",
    "response = completion(\n",
    "    model=\"fireworks_ai/accounts/fireworks/models/phi-3-vision-128k-instruct\", \n",
    "    messages=[\n",
    "       {\"role\": \"user\", \"content\": \"hello from litellm\"}\n",
    "   ],\n",
    ")\n",
    "print(response)"
   ]
  },
  {
   "cell_type": "code",
   "execution_count": null,
   "metadata": {},
   "outputs": [],
   "source": []
  }
 ],
 "metadata": {
  "kernelspec": {
   "display_name": "datathon2025",
   "language": "python",
   "name": "python3"
  },
  "language_info": {
   "codemirror_mode": {
    "name": "ipython",
    "version": 3
   },
   "file_extension": ".py",
   "mimetype": "text/x-python",
   "name": "python",
   "nbconvert_exporter": "python",
   "pygments_lexer": "ipython3",
   "version": "3.10.16"
  }
 },
 "nbformat": 4,
 "nbformat_minor": 2
}
